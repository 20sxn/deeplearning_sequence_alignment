{
 "cells": [
  {
   "cell_type": "code",
   "execution_count": 3,
   "id": "f85dd40e",
   "metadata": {},
   "outputs": [],
   "source": [
    "import torch\n",
    "import torch.nn as nn\n",
    "from torch.utils.data import Dataset\n",
    "import os\n",
    "import numpy as np\n",
    "import linecache #fast access to a specific file line\n",
    "from torch.utils.data import DataLoader\n",
    "import matplotlib.pyplot as plt\n",
    "from einops import rearrange, repeat\n",
    "import torch.nn.functional as F\n",
    "import time\n",
    "from pathlib import Path"
   ]
  },
  {
   "cell_type": "code",
   "execution_count": 4,
   "id": "8fcc93b9",
   "metadata": {},
   "outputs": [],
   "source": [
    "from torchinfo import summary"
   ]
  },
  {
   "cell_type": "code",
   "execution_count": 5,
   "id": "a9bab698",
   "metadata": {},
   "outputs": [
    {
     "name": "stdout",
     "output_type": "stream",
     "text": [
      "1.11.0\n",
      "11.1\n",
      "True\n"
     ]
    }
   ],
   "source": [
    "print(torch.__version__)\n",
    "print(torch.version.cuda)\n",
    "print(torch.cuda.is_available())"
   ]
  },
  {
   "cell_type": "code",
   "execution_count": 6,
   "id": "1eac7b6f",
   "metadata": {},
   "outputs": [
    {
     "data": {
      "text/plain": [
       "device(type='cuda', index=0)"
      ]
     },
     "execution_count": 6,
     "metadata": {},
     "output_type": "execute_result"
    }
   ],
   "source": [
    "device = torch.device(\"cuda:0\" if torch.cuda.is_available() else \"cpu\")\n",
    "device"
   ]
  },
  {
   "cell_type": "code",
   "execution_count": 13,
   "id": "453df495",
   "metadata": {},
   "outputs": [],
   "source": [
    "ALPHABET = [\"A\", \"R\", \"N\", \"D\", \"C\", \"Q\", \"E\", \"G\", \"H\", \"I\",\n",
    "            \"L\", \"K\", \"M\", \"F\", \"P\", \"S\", \"T\", \"W\", \"Y\", \"V\"]\n",
    "\n",
    "ALPHABET = {ALPHABET[i]:i for i in range(len(ALPHABET))}\n",
    "\n",
    "ALPHABET['-']= 20\n",
    "ALPHABET['Z']= 21"
   ]
  },
  {
   "cell_type": "code",
   "execution_count": 14,
   "id": "a365b340",
   "metadata": {},
   "outputs": [
    {
     "name": "stdout",
     "output_type": "stream",
     "text": [
      "{'A': 0, 'R': 1, 'N': 2, 'D': 3, 'C': 4, 'Q': 5, 'E': 6, 'G': 7, 'H': 8, 'I': 9, 'L': 10, 'K': 11, 'M': 12, 'F': 13, 'P': 14, 'S': 15, 'T': 16, 'W': 17, 'Y': 18, 'V': 19, '-': 20, 'Z': 21}\n"
     ]
    }
   ],
   "source": [
    "print(ALPHABET)"
   ]
  },
  {
   "cell_type": "code",
   "execution_count": 15,
   "id": "e3abd19e",
   "metadata": {},
   "outputs": [],
   "source": [
    "class MyDataset(Dataset):\n",
    "    def __init__(self, data_dir, cont_size=6):\n",
    "        self.col_size = 60 #number of column per file (Fasta standard)\n",
    "        self.data_dir = data_dir #directory of the dataset\n",
    "        self.cont_size = cont_size\n",
    "        self.len = 0  #number of families of sequences (1 per file)\n",
    "        self.paths = {} #path of each families in the folder\n",
    "        self.seq_lens = {} #length of each member of the family\n",
    "        self.seq_nums = {} #number of member of the family\n",
    "        \n",
    "        \n",
    "        dir_path = data_dir\n",
    "        count = 0\n",
    "        \n",
    "        # Iterate directory\n",
    "        for path in os.listdir(dir_path):\n",
    "            # check if current path is a file\n",
    "            temp_path = os.path.join(dir_path, path)\n",
    "            if os.path.isfile(temp_path):\n",
    "                n = 0 #number of sequences\n",
    "                p = 0 # used to calculate the length of the sequences\n",
    "                r = 0 # also used this way\n",
    "\n",
    "                l = 0 # length of the seq l = p * self.col_size + r \n",
    "\n",
    "                cpt = 0 # to detect inconsistencies\n",
    "                \n",
    "                with open(temp_path, newline='') as f:\n",
    "                    first_prot = True\n",
    "                    newf = True\n",
    "                    \n",
    "                    #parsing the file\n",
    "                    line = f.readline()\n",
    "                    while line:\n",
    "                        cpt += 1\n",
    "                        if line[0] == '>': #header line\n",
    "                            n += 1\n",
    "                            if newf and not first_prot:\n",
    "                                newf = False\n",
    "                            first_prot = False\n",
    "                                \n",
    "                        else:# sequence line\n",
    "                            line = line.strip() #removing \"\\n\"\n",
    "                            if newf and len(line) == self.col_size:\n",
    "                                p += 1\n",
    "\n",
    "                            if newf and len(line) != self.col_size:\n",
    "                                r = len(line)\n",
    "                                #newf = False\n",
    "\n",
    "\n",
    "                            assert len(line) == self.col_size or len(line) == r\n",
    "                        line = f.readline()\n",
    "\n",
    "                l = p*self.col_size + r\n",
    "                \n",
    "                #sanity check\n",
    "                #if the file line count is coherent with the number of sequences and their line count\n",
    "                try: #if r != 0\n",
    "                    assert (p+2) * n == cpt\n",
    "                except: #if r == 0\n",
    "                    assert (p+1) * n == cpt\n",
    "                    assert r == 0\n",
    "                    \n",
    "                \n",
    "                if l > 2*self.cont_size and n>1: #if this is false, we can't compute the context window of find pairs\n",
    "                    self.paths[count] = path\n",
    "                    self.seq_lens[count] = l\n",
    "                    self.seq_nums[count] = n\n",
    "                    count += 1\n",
    "            \n",
    "        self.len = count\n",
    "    \n",
    "    def __len__(self):\n",
    "        return self.len\n",
    "     \n",
    "    def sample(self, high, low=0, s=1):\n",
    "        sample = np.random.choice(high-low, s, replace=False)\n",
    "        return sample + low\n",
    "    \n",
    "    def __getitem__(self, idx, sample_size='auto'): \n",
    "        #for each sample:\n",
    "        #sample i, j st i != j the two sequences to compare\n",
    "        #sample k the sequence position of the prediction\n",
    "        #compute the file positions of the 25 + 1 AA\n",
    "        \n",
    "        X = []\n",
    "        y = []\n",
    "        \n",
    "        PIDs = []\n",
    "        local_PIDs = []\n",
    "        \n",
    "        freqs = []\n",
    "\n",
    "        \n",
    "        \n",
    "        data_path = os.path.join(self.data_dir, self.paths[idx])\n",
    "        try:\n",
    "            n = self.seq_nums[idx]\n",
    "            l = self.seq_lens[idx]\n",
    "        except:\n",
    "            print(idx)\n",
    "            pass\n",
    "        \n",
    "        if type(sample_size) != int:\n",
    "            coef = round((n**2 * l)/1400000) \n",
    "            sample_size = max(1,coef)\n",
    "        \n",
    "        p = l // self.col_size\n",
    "        r = l % self.col_size # l = p * q + r\n",
    "        sequence_line_count = p+2 if r else p+1\n",
    "\n",
    "\n",
    "        for _ in range(sample_size):\n",
    "            i,j = self.sample(n,s=2)\n",
    "            \n",
    "            start_i = 2 + (sequence_line_count)*i #start line of protein i\n",
    "            start_j = 2 + (sequence_line_count)*j #start line of protein j\n",
    "            \n",
    "            \n",
    "            PID_ij = 0\n",
    "            l_i = 0\n",
    "            l_j = 0\n",
    "            \n",
    "            freq_i = torch.zeros(20)\n",
    "            freq_j = torch.zeros(20)\n",
    "            \n",
    "            aa_cpt = 0\n",
    "            possible_k = []\n",
    "            for offset in range(sequence_line_count-1):\n",
    "                line_i = linecache.getline(data_path, (start_i + offset))\n",
    "                line_i = line_i.strip()\n",
    "                \n",
    "                line_j = linecache.getline(data_path, (start_j + offset))\n",
    "                line_j = line_j.strip()\n",
    "                \n",
    "                PID_ij += sum(1 for AA1,AA2 in zip(line_i, line_j) if AA1 == AA2 and AA1 != '-')\n",
    "                l_i += sum(1 for AA in line_i if AA != '-')\n",
    "                l_j += sum(1 for AA in line_j if AA != '-')\n",
    "                \n",
    "                for k in range(len(line_i)):\n",
    "                    if (ALPHABET.get(line_i[k],21) < 20) and (ALPHABET.get(line_j[k],21) < 20):\n",
    "                        if aa_cpt >= self.cont_size and (aa_cpt+self.cont_size) < l:\n",
    "                            possible_k.append(aa_cpt)\n",
    "                    aa_cpt += 1\n",
    "                    \n",
    "                    aa_i = ALPHABET.get(line_i[k],21)\n",
    "                    aa_j = ALPHABET.get(line_j[k],21)\n",
    "                    \n",
    "                    if aa_i < 20: freq_i[aa_i] += 1\n",
    "                    if aa_j < 20: freq_j[aa_j] += 1\n",
    "            \n",
    "            freq_i = F.normalize(freq_i,dim=0,p=1)\n",
    "            freq_j = F.normalize(freq_j,dim=0,p=1)\n",
    "            \n",
    "            freqs.append(torch.stack([freq_i,freq_j]))\n",
    "            \n",
    "            \n",
    "            try:\n",
    "                PID_ij = PID_ij/min(l_i,l_j)\n",
    "            except:\n",
    "                print(\"error\")\n",
    "                PID_ij = 0\n",
    "            \n",
    "            try:\n",
    "                k = np.random.choice(possible_k)\n",
    "            except:\n",
    "                continue\n",
    "            offset = (k-self.cont_size)//self.col_size #line in which the sampled AA is\n",
    "\n",
    "            start_w = (k-self.cont_size)%self.col_size #idx of the window start\n",
    "            end_w = (k+self.cont_size+1)%self.col_size\n",
    "            \n",
    "            \n",
    "\n",
    "            #getting the windows\n",
    "            if start_w < end_w: #Case on one line\n",
    "                line_i = linecache.getline(data_path, (start_i + offset))\n",
    "                line_i = line_i.strip()\n",
    "\n",
    "                line_j = linecache.getline(data_path, (start_j + offset))\n",
    "                line_j = line_j.strip()\n",
    "\n",
    "                window_i = line_i[start_w:end_w]\n",
    "                window_j = line_j[start_w:end_w]\n",
    "\n",
    "\n",
    "            else: #Case on two lines\n",
    "                #first line\n",
    "                line_i = linecache.getline(data_path, (start_i + offset))\n",
    "                line_i = line_i.strip()\n",
    "\n",
    "                line_j = linecache.getline(data_path, (start_j + offset))\n",
    "                line_j = line_j.strip()\n",
    "\n",
    "                window_temp_i = line_i[start_w:]\n",
    "                window_temp_j = line_j[start_w:]\n",
    "\n",
    "                #second line\n",
    "                line_i = linecache.getline(data_path, (start_i + offset + 1))\n",
    "                line_i = line_i.strip()\n",
    "\n",
    "                line_j = linecache.getline(data_path, (start_j + offset + 1))\n",
    "                line_j = line_j.strip()\n",
    "\n",
    "                window_i = line_i[:end_w]\n",
    "                window_j = line_j[:end_w]\n",
    "\n",
    "                #merging\n",
    "                window_i = window_temp_i + window_i\n",
    "                window_j = window_temp_j + window_j\n",
    "\n",
    "            y_j = ALPHABET.get(window_j[self.cont_size], 21) # 'Z' is the default value for rare AA\n",
    "            X_i = [ALPHABET.get(i, 21) for i in (window_i+window_j[:self.cont_size]+window_j[self.cont_size+1:])]       \n",
    "            \n",
    "            X.append(X_i)\n",
    "            y.append(y_j)\n",
    "            PIDs.append(PID_ij)\n",
    "            local_PID_ij = sum(1 for AA1,AA2 in zip(window_i, window_j[:self.cont_size]) if AA1 == AA2 and AA1 != '-') \\\n",
    "                         + sum(1 for AA1,AA2 in zip(reversed(window_i), reversed(window_j[self.cont_size+1:])) if AA1 == AA2 and AA1 != '-')\n",
    "            \n",
    "            local_l_i = sum(1 for AA in window_i[:self.cont_size] if AA != '-') + sum(1 for AA in window_i[self.cont_size+1:] if AA != '-')\n",
    "            local_l_j = sum(1 for AA in window_j[:self.cont_size] if AA != '-') + sum(1 for AA in window_j[self.cont_size+1:] if AA != '-')\n",
    "            try:\n",
    "                tmp = local_PID_ij/min(local_l_i,local_l_j)\n",
    "            except:\n",
    "                tmp = 0\n",
    "                \n",
    "            local_PIDs.append(tmp)\n",
    "            \n",
    "            assert y_j < 20\n",
    "            assert X_i[self.cont_size] < 20\n",
    "            \n",
    "        linecache.clearcache()\n",
    "        X = torch.tensor(X)\n",
    "        try:\n",
    "            X = F.one_hot(X,22)[:,:,0:-1]\n",
    "        except RuntimeError:\n",
    "            pass\n",
    "        return X.float(),torch.tensor(y).long(),torch.tensor(PIDs),torch.tensor(local_PIDs), torch.stack(freqs)\n",
    "\n",
    "    "
   ]
  },
  {
   "cell_type": "code",
   "execution_count": 16,
   "id": "1d9b12fe",
   "metadata": {},
   "outputs": [
    {
     "name": "stdout",
     "output_type": "stream",
     "text": [
      "13202\n",
      "2835\n",
      "2817\n"
     ]
    }
   ],
   "source": [
    "train_dataset = MyDataset(r\"data/train_data\",cont_size = 6)\n",
    "test_dataset = MyDataset(r\"data/test_data\",cont_size = 6)\n",
    "val_dataset = MyDataset(r\"data/val_data\",cont_size = 6)\n",
    "print(len(train_dataset))\n",
    "print(len(test_dataset))\n",
    "print(len(val_dataset))"
   ]
  },
  {
   "cell_type": "code",
   "execution_count": 17,
   "id": "378c93c2",
   "metadata": {},
   "outputs": [],
   "source": [
    "def my_collate(batch):\n",
    "    data = torch.cat([item[0] for item in batch],dim=0)\n",
    "    target = torch.cat([item[1] for item in batch],dim=0)\n",
    "    #target = torch.LongTensor(target)\n",
    "    PID = torch.cat([item[2] for item in batch],dim=0)\n",
    "    lPID = torch.cat([item[3] for item in batch],dim=0)\n",
    "    freqs = torch.cat([item[4] for item in batch],dim=0)\n",
    "    \n",
    "    return data, target, PID, lPID, freqs"
   ]
  },
  {
   "cell_type": "code",
   "execution_count": 18,
   "id": "66f5e639",
   "metadata": {},
   "outputs": [],
   "source": [
    "train_dataloader = DataLoader(train_dataset, batch_size=32, shuffle=True,collate_fn=my_collate,num_workers=4)\n",
    "\n",
    "test_dataloader = DataLoader(test_dataset, batch_size=32, shuffle=True,collate_fn=my_collate,num_workers=4)\n",
    "\n",
    "val_dataloader = DataLoader(val_dataset, batch_size=32, shuffle=True,collate_fn=my_collate,num_workers=4)"
   ]
  },
  {
   "cell_type": "markdown",
   "id": "6a0bd239",
   "metadata": {},
   "source": [
    "# ADD THESE METADATA IN THE NETWORK\n",
    "# ADD FREQ AS A NN.PARAMETER"
   ]
  },
  {
   "cell_type": "code",
   "execution_count": 20,
   "id": "7c0f4e6f",
   "metadata": {},
   "outputs": [],
   "source": [
    "class AttBlock(nn.Module):\n",
    "    def __init__(self,in_features,out_features=None,num_heads=8,head_dims=24):\n",
    "        super().__init__()\n",
    "        out_features = out_features or in_features\n",
    "        \n",
    "        self.Q_w = nn.Linear(in_features,num_heads*head_dims,bias=False)\n",
    "        self.K_w = nn.Linear(in_features,num_heads*head_dims,bias=False)\n",
    "        self.V_w = nn.Linear(in_features,num_heads*head_dims,bias=False)\n",
    "        \n",
    "        self.att = nn.MultiheadAttention(num_heads*head_dims,num_heads=num_heads,batch_first=True)\n",
    "        self.lin = nn.Linear(num_heads*head_dims,out_features)\n",
    "        \n",
    "    def forward(self,x):\n",
    "        Q = self.Q_w(x)\n",
    "        K = self.K_w(x)\n",
    "        V = self.V_w(x)\n",
    "        out,_ = self.att(Q,K,V,need_weights=False)\n",
    "        out = self.lin(out)\n",
    "        \n",
    "        return out"
   ]
  },
  {
   "cell_type": "code",
   "execution_count": 21,
   "id": "d97a7106",
   "metadata": {},
   "outputs": [],
   "source": [
    "class FeedFoward(nn.Module):\n",
    "    def __init__(self,in_features,out_features=None,wide_factor=4):\n",
    "        super().__init__()\n",
    "        out_features = out_features or in_features\n",
    "        hidden_dim = wide_factor * in_features\n",
    "        \n",
    "        self.lin1 = nn.Linear(in_features,hidden_dim)\n",
    "        self.act1 = nn.GELU()\n",
    "        self.lin2 = nn.Linear(hidden_dim,out_features)\n",
    "        self.act2 = nn.GELU()\n",
    "        \n",
    "    def forward(self,x):\n",
    "        out = self.lin1(x)\n",
    "        out = self.act1(out)\n",
    "        out = self.lin2(out)\n",
    "        out = self.act2(out)\n",
    "        \n",
    "        return out"
   ]
  },
  {
   "cell_type": "code",
   "execution_count": 22,
   "id": "3e2f0e2d",
   "metadata": {},
   "outputs": [],
   "source": [
    "def drop_path(x, drop_prob: float = 0.1, training: bool = False, scale_by_keep: bool = True):\n",
    "    \"\"\"Drop paths (Stochastic Depth) per sample (when applied in main path of residual blocks).\n",
    "\n",
    "    This is the same as the DropConnect impl I created for EfficientNet, etc networks, however,\n",
    "    the original name is misleading as 'Drop Connect' is a different form of dropout in a separate paper...\n",
    "    See discussion: https://github.com/tensorflow/tpu/issues/494#issuecomment-532968956 ... I've opted for\n",
    "    changing the layer and argument names to 'drop path' rather than mix DropConnect as a layer name and use\n",
    "    'survival rate' as the argument.\n",
    "\n",
    "    \"\"\"\n",
    "    if drop_prob == 0. or not training:\n",
    "        return x\n",
    "    keep_prob = 1 - drop_prob\n",
    "    shape = (x.shape[0],) + (1,) * (x.ndim - 1)  # work with diff dim tensors, not just 2D ConvNets\n",
    "    random_tensor = x.new_empty(shape).bernoulli_(keep_prob)\n",
    "    if keep_prob > 0.0 and scale_by_keep:\n",
    "        random_tensor.div_(keep_prob)\n",
    "    return x * random_tensor\n",
    "\n",
    "\n",
    "class DropPath(nn.Module):\n",
    "    \"\"\"Drop paths (Stochastic Depth) per sample  (when applied in main path of residual blocks).\n",
    "    \"\"\"\n",
    "    def __init__(self, drop_prob=None, scale_by_keep=True):\n",
    "        super(DropPath, self).__init__()\n",
    "        self.drop_prob = drop_prob\n",
    "        self.scale_by_keep = scale_by_keep\n",
    "\n",
    "    def forward(self, x):\n",
    "        return drop_path(x, self.drop_prob, self.training, self.scale_by_keep)\n"
   ]
  },
  {
   "cell_type": "code",
   "execution_count": 23,
   "id": "fb41b0b8",
   "metadata": {},
   "outputs": [],
   "source": [
    "class Block(nn.Module):\n",
    "    def __init__(self,in_features,num_heads=8,head_dims=24,wide_factor=4,drop=0.1):\n",
    "        super().__init__()\n",
    "        \n",
    "        self.att_block = AttBlock(in_features,num_heads=num_heads,head_dims=head_dims)\n",
    "        self.ff = FeedFoward(in_features,wide_factor=wide_factor)\n",
    "        self.drop_path = DropPath(drop)\n",
    "        \n",
    "        self.norm1 = nn.LayerNorm(in_features)\n",
    "        self.norm2 = nn.LayerNorm(in_features)\n",
    "    def forward(self,x):\n",
    "        out = x + self.drop_path(self.att_block(x))\n",
    "        out = self.norm1(out)\n",
    "        out = out + self.drop_path(self.ff(out))\n",
    "        out = self.norm2(out)\n",
    "        return out"
   ]
  },
  {
   "cell_type": "code",
   "execution_count": 24,
   "id": "c55b8e79",
   "metadata": {},
   "outputs": [],
   "source": [
    "class Classifier_Head(nn.Module):\n",
    "    def __init__(self,in_features,clf_dims,out_size,seq_len):\n",
    "        super().__init__()\n",
    "        in_dim = seq_len*in_features\n",
    "        self.in_dim = in_dim\n",
    "        \n",
    "        layers = []\n",
    "        for out_dim in clf_dims:\n",
    "            layers.append(nn.Linear(in_dim,out_dim))\n",
    "            layers.append(nn.GELU())\n",
    "            in_dim = out_dim\n",
    "\n",
    "        layers.append(nn.Linear(in_dim,out_size))\n",
    "        \n",
    "        self.clf = nn.Sequential(*layers)\n",
    "        \n",
    "    def forward(self,x):\n",
    "        out = x.reshape((-1,self.in_dim))\n",
    "        \n",
    "        out = self.clf(out)\n",
    "        \n",
    "        return out"
   ]
  },
  {
   "cell_type": "code",
   "execution_count": 25,
   "id": "7a397a69",
   "metadata": {},
   "outputs": [],
   "source": [
    "class AttNet(nn.Module):\n",
    "    def __init__(self,in_features,num_heads,head_dims,wide_factors,drops,out_size=20,seq_len=29,clf_dims=[1024,256,64],cont_size=6):\n",
    "        super().__init__()\n",
    "        \n",
    "        blocks = []\n",
    "        for n_h, h_d,w,d in zip(num_heads,head_dims,wide_factors,drops):\n",
    "            blocks.append(Block(in_features,num_heads=n_h,head_dims=h_d,wide_factor=w,drop=d))\n",
    "        self.feature_extractor = nn.Sequential(*blocks)\n",
    "        \n",
    "        self.clf = Classifier_Head(in_features,clf_dims,out_size=out_size,seq_len=seq_len)\n",
    "        \n",
    "        self.cont_size=cont_size\n",
    "        \n",
    "        sp = Path(\"data/freq.pth\")\n",
    "        with sp.open(\"rb\") as fp:\n",
    "            self.F = nn.Parameter(torch.load(fp))\n",
    "        \n",
    "        \n",
    "    def forward(self,x,PID,pfreqs):\n",
    "        \n",
    "        X_idx = torch.argmax(x[:,self.cont_size],dim=1)\n",
    "        Fr = F.pad(self.F[X_idx].unsqueeze(1), pad=(0, 1), mode='constant', value=0)\n",
    "        pf = F.pad(pfreqs, pad=(0, 1), mode='constant', value=0)\n",
    "        pid = repeat(PID, \"b -> b 1 e\",e=20)\n",
    "        pid = F.pad(pid, pad=(0, 1), mode='constant', value=0)\n",
    "        \n",
    "        X_input = torch.cat([x,Fr,pf,pid],dim=1)\n",
    "                \n",
    "        features = self.feature_extractor(X_input)\n",
    "        out = self.clf(features)\n",
    "        return out"
   ]
  },
  {
   "cell_type": "code",
   "execution_count": 26,
   "id": "313c7bdf",
   "metadata": {},
   "outputs": [],
   "source": [
    "class State:\n",
    "    def __init__(self,model,optim):\n",
    "        self.model = model\n",
    "        self.optim = optim\n",
    "        self.epoch = 0"
   ]
  },
  {
   "cell_type": "code",
   "execution_count": 30,
   "id": "00349869",
   "metadata": {},
   "outputs": [],
   "source": [
    "def main(train_loader,val_loader,epochs=101,fname=\"models/state.pth\",dims=[82,32,16,8,4],model=None):\n",
    "    \n",
    "    #to get the best model\n",
    "    best = float('inf')\n",
    "    \n",
    "    #getting the acceleration device\n",
    "    device = torch.device(\"cuda:0\" if torch.cuda.is_available() else \"cpu\")\n",
    "    \n",
    "    #loading from previous checkpoint\n",
    "    savepath = Path(fname)\n",
    "    if savepath.is_file():\n",
    "        with savepath.open(\"rb\") as fp:\n",
    "            state = torch.load(fp)\n",
    "    else:\n",
    "        if model is None:\n",
    "            model = AttNet(21,[8,8,8],[24,24,24],[4,4,4],[0.1,0.1,0.1])\n",
    "        model = model.to(device)\n",
    "        optim = torch.optim.Adam(model.parameters())\n",
    "        state = State(model,optim)\n",
    "    \n",
    "    #ADD a LR Scheduler\n",
    "    \n",
    "    Loss = nn.CrossEntropyLoss()\n",
    "    EvalLoss = nn.MSELoss()\n",
    "\n",
    "    List_Loss = []\n",
    "    Eval_Loss = []\n",
    "    for epoch in range(state.epoch, epochs):\n",
    "        batch_losses = []\n",
    "        state.model.train()\n",
    "        for X,y, PID, lPID, pfreqs in train_loader:\n",
    "    \n",
    "            X = X.to(device)\n",
    "            y = y.to(device)\n",
    "            PID = PID.to(device)\n",
    "            lPID = lPID.to(device)\n",
    "            pfreqs = pfreqs.to(device)\n",
    "               \n",
    "            state.optim.zero_grad()\n",
    "            y_hat = state.model(X,PID,pfreqs)\n",
    "            \n",
    "            l = Loss(y_hat,y)\n",
    "            l.backward()\n",
    "            state.optim.step()\n",
    "            \n",
    "            \n",
    "            \n",
    "            batch_losses.append(l.detach().cpu())\n",
    "        List_Loss.append(torch.mean(torch.stack(batch_losses)).detach().cpu())\n",
    "        state.epoch = epoch + 1\n",
    "        \n",
    "        with torch.no_grad():\n",
    "            eval_losses = [] \n",
    "            state.model.eval()\n",
    "            for X,y, PID, lPID, pfreqs in val_loader:\n",
    "\n",
    "                X = X.to(device)\n",
    "                y = y.to(device)\n",
    "                PID = PID.to(device)\n",
    "                lPID = lPID.to(device)\n",
    "                pfreqs = pfreqs.to(device)\n",
    "\n",
    "                y_hat = state.model(X,PID,pfreqs)\n",
    "                y_hat = F.softmax(y_hat,dim=1)\n",
    "\n",
    "                y = F.one_hot(y, 20)\n",
    "                eval_l = (y_hat-y)**2\n",
    "                eval_losses.append(torch.sum(eval_l,dim=1).mean().detach().cpu())\n",
    "\n",
    "\n",
    "            score = torch.mean(torch.stack(eval_losses)).detach().cpu()\n",
    "            Eval_Loss.append(score)\n",
    "        \n",
    "        if score < best :\n",
    "            best = score\n",
    "            with savepath.open(\"wb\") as fp:\n",
    "                torch.save(state,fp)\n",
    "        \n",
    "        print(f\"epoch n°{epoch} : train_loss = {List_Loss[-1]}, test_loss = {Eval_Loss[-1]}\") \n",
    "            \n",
    "    return List_Loss,Eval_Loss"
   ]
  },
  {
   "cell_type": "code",
   "execution_count": 28,
   "id": "44334b56",
   "metadata": {},
   "outputs": [
    {
     "name": "stdout",
     "output_type": "stream",
     "text": [
      "rm: cannot remove 'models/stateATT2.pth': No such file or directory\r\n"
     ]
    }
   ],
   "source": [
    "! rm models/stateATT2.pth"
   ]
  },
  {
   "cell_type": "code",
   "execution_count": 29,
   "id": "ad4448e0",
   "metadata": {
    "scrolled": true
   },
   "outputs": [
    {
     "name": "stdout",
     "output_type": "stream",
     "text": [
      "epoch n°0 : train_loss = 2.4563002586364746, test_loss = 0.8210277557373047\n",
      "120.86076521873474\n"
     ]
    }
   ],
   "source": [
    "fname = \"models/stateATT2.pth\" \n",
    "start = time.time()\n",
    "Train,Eval = main(train_dataloader, val_dataloader,fname=fname,epochs=1)\n",
    "stop = time.time()\n",
    "print(stop-start)"
   ]
  },
  {
   "cell_type": "code",
   "execution_count": 31,
   "id": "7b320b24",
   "metadata": {},
   "outputs": [],
   "source": [
    "fname = \"models/stateATT2.pth\" \n",
    "savepath = Path(fname)\n",
    "with savepath.open(\"rb\") as fp:\n",
    "    state = torch.load(fp)"
   ]
  },
  {
   "cell_type": "code",
   "execution_count": 32,
   "id": "1761dd4d",
   "metadata": {},
   "outputs": [
    {
     "data": {
      "text/plain": [
       "1"
      ]
     },
     "execution_count": 32,
     "metadata": {},
     "output_type": "execute_result"
    }
   ],
   "source": [
    "state.epoch"
   ]
  },
  {
   "cell_type": "code",
   "execution_count": 63,
   "id": "074a1b9c",
   "metadata": {},
   "outputs": [
    {
     "data": {
      "text/plain": [
       "[<matplotlib.lines.Line2D at 0x7fd82035ae50>]"
      ]
     },
     "execution_count": 63,
     "metadata": {},
     "output_type": "execute_result"
    },
    {
     "data": {
      "image/png": "[encoded data removed]",
      "text/plain": [
       "<Figure size 640x480 with 1 Axes>"
      ]
     },
     "metadata": {},
     "output_type": "display_data"
    }
   ],
   "source": [
    "plt.plot(np.arange(len(Train)),Train)"
   ]
  },
  {
   "cell_type": "code",
   "execution_count": 65,
   "id": "ed26f251",
   "metadata": {},
   "outputs": [
    {
     "data": {
      "text/plain": [
       "[<matplotlib.lines.Line2D at 0x7fd7bc794f10>]"
      ]
     },
     "execution_count": 65,
     "metadata": {},
     "output_type": "execute_result"
    },
    {
     "data": {
      "image/png": "[encoded data removed]",
      "text/plain": [
       "<Figure size 640x480 with 1 Axes>"
      ]
     },
     "metadata": {},
     "output_type": "display_data"
    }
   ],
   "source": [
    "plt.plot(np.arange(len(Eval)),Eval)"
   ]
  },
  {
   "cell_type": "code",
   "execution_count": 42,
   "id": "8dab16ea",
   "metadata": {},
   "outputs": [],
   "source": [
    "def eval_model(fname,train,test,val):\n",
    "    savepath = Path(fname)\n",
    "    with savepath.open(\"rb\") as fp:\n",
    "        state = torch.load(fp)\n",
    "        \n",
    "    state.model.eval()\n",
    "    with torch.no_grad():\n",
    "        print('EVALUATING ON TRAIN DATA : ')\n",
    "        eval_losses = []\n",
    "        for X,y, PID, lPID, pfreqs in train:\n",
    "            X = X.to(device)\n",
    "            y = y.to(device)\n",
    "            PID = PID.to(device)\n",
    "            lPID = lPID.to(device)\n",
    "            pfreqs = pfreqs.to(device)\n",
    "\n",
    "            y_hat = state.model(X,PID,pfreqs)\n",
    "            y_hat = F.softmax(y_hat,dim=1)\n",
    "\n",
    "            y = F.one_hot(y, 20)\n",
    "            eval_l = (y_hat-y)**2\n",
    "            eval_losses.append(torch.sum(eval_l,dim=1).mean().detach().cpu())\n",
    "\n",
    "        score_train = torch.mean(torch.stack(eval_losses)).detach().cpu().item()\n",
    "        print(f\"{score_train = }\\n\")\n",
    "\n",
    "        print('EVALUATING ON TEST DATA : ')\n",
    "        eval_losses = []\n",
    "        for X,y, PID, lPID, pfreqs in test:\n",
    "            X = X.to(device)\n",
    "            y = y.to(device)\n",
    "            PID = PID.to(device)\n",
    "            lPID = lPID.to(device)\n",
    "            pfreqs = pfreqs.to(device)\n",
    "\n",
    "            y_hat = state.model(X,PID,pfreqs)\n",
    "            y_hat = F.softmax(y_hat,dim=1)\n",
    "\n",
    "            y = F.one_hot(y, 20)\n",
    "            eval_l = (y_hat-y)**2\n",
    "            eval_losses.append(torch.sum(eval_l,dim=1).mean().detach().cpu())\n",
    "\n",
    "        score_test = torch.mean(torch.stack(eval_losses)).detach().cpu().item()\n",
    "        print(f\"{score_test = }\\n\")\n",
    "\n",
    "        print('EVALUATING ON VAL DATA : ')\n",
    "        eval_losses = []\n",
    "        for X,y, PID, lPID, pfreqs in val:\n",
    "            X = X.to(device)\n",
    "            y = y.to(device)\n",
    "            PID = PID.to(device)\n",
    "            lPID = lPID.to(device)\n",
    "            pfreqs = pfreqs.to(device)\n",
    "\n",
    "            y_hat = state.model(X,PID,pfreqs)\n",
    "            y_hat = F.softmax(y_hat,dim=1)\n",
    "\n",
    "            y = F.one_hot(y, 20)\n",
    "            eval_l = (y_hat-y)**2\n",
    "            eval_losses.append(torch.sum(eval_l,dim=1).mean().detach().cpu())\n",
    "\n",
    "        score_val = torch.mean(torch.stack(eval_losses)).detach().cpu().item()\n",
    "        print(f\"{score_val = }\\n\")\n",
    "    \n",
    "    return score_train, score_test, score_val"
   ]
  },
  {
   "cell_type": "code",
   "execution_count": 43,
   "id": "88860984",
   "metadata": {},
   "outputs": [
    {
     "name": "stdout",
     "output_type": "stream",
     "text": [
      "EVALUATING ON TRAIN DATA : \n",
      "score_train = 0.822242259979248\n",
      "\n",
      "EVALUATING ON TEST DATA : \n",
      "score_test = 0.8199448585510254\n",
      "\n",
      "EVALUATING ON VAL DATA : \n",
      "score_val = 0.8177952170372009\n",
      "\n"
     ]
    }
   ],
   "source": [
    "fname = \"models/stateATT2.pth\" \n",
    "SCORES = eval_model(fname,train_dataloader,test_dataloader,val_dataloader)"
   ]
  },
  {
   "cell_type": "code",
   "execution_count": null,
   "id": "ab5f75c0",
   "metadata": {},
   "outputs": [],
   "source": []
  }
 ],
 "metadata": {
  "kernelspec": {
   "display_name": "Python 3 (ipykernel)",
   "language": "python",
   "name": "python3"
  },
  "language_info": {
   "codemirror_mode": {
    "name": "ipython",
    "version": 3
   },
   "file_extension": ".py",
   "mimetype": "text/x-python",
   "name": "python",
   "nbconvert_exporter": "python",
   "pygments_lexer": "ipython3",
   "version": "3.8.16"
  }
 },
 "nbformat": 4,
 "nbformat_minor": 5
}
