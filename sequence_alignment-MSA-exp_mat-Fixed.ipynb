{
 "cells": [
  {
   "cell_type": "code",
   "execution_count": 1,
   "id": "f85dd40e",
   "metadata": {},
   "outputs": [],
   "source": [
    "import torch\n",
    "import torch.nn as nn\n",
    "from torch.utils.data import Dataset\n",
    "import os\n",
    "import numpy as np\n",
    "import linecache #fast access to a specific file line\n",
    "from torch.utils.data import DataLoader\n",
    "import matplotlib.pyplot as plt\n",
    "from einops import rearrange, repeat\n",
    "import torch.nn.functional as F\n",
    "import time\n",
    "import torchinfo\n",
    "from pathlib import Path"
   ]
  },
  {
   "cell_type": "code",
   "execution_count": 2,
   "id": "a9bab698",
   "metadata": {},
   "outputs": [
    {
     "name": "stdout",
     "output_type": "stream",
     "text": [
      "1.11.0\n",
      "11.1\n",
      "True\n"
     ]
    }
   ],
   "source": [
    "print(torch.__version__)\n",
    "print(torch.version.cuda)\n",
    "print(torch.cuda.is_available())"
   ]
  },
  {
   "cell_type": "code",
   "execution_count": 3,
   "id": "1eac7b6f",
   "metadata": {},
   "outputs": [
    {
     "data": {
      "text/plain": [
       "device(type='cuda', index=0)"
      ]
     },
     "execution_count": 3,
     "metadata": {},
     "output_type": "execute_result"
    }
   ],
   "source": [
    "torch.multiprocessing.set_sharing_strategy('file_system') #to avoid issues in the dataloading\n",
    "device = torch.device(\"cuda:0\" if torch.cuda.is_available() else \"cpu\")\n",
    "device"
   ]
  },
  {
   "cell_type": "code",
   "execution_count": 4,
   "id": "f1378df9",
   "metadata": {},
   "outputs": [],
   "source": [
    "CONT_SIZE = 31"
   ]
  },
  {
   "cell_type": "code",
   "execution_count": 5,
   "id": "453df495",
   "metadata": {},
   "outputs": [
    {
     "name": "stdout",
     "output_type": "stream",
     "text": [
      "{'A': 0, 'R': 1, 'N': 2, 'D': 3, 'C': 4, 'Q': 5, 'E': 6, 'G': 7, 'H': 8, 'I': 9, 'L': 10, 'K': 11, 'M': 12, 'F': 13, 'P': 14, 'S': 15, 'T': 16, 'W': 17, 'Y': 18, 'V': 19, '-': 20, 'Z': 21}\n"
     ]
    }
   ],
   "source": [
    "ALPHABET = [\"A\", \"R\", \"N\", \"D\", \"C\", \"Q\", \"E\", \"G\", \"H\", \"I\",\n",
    "            \"L\", \"K\", \"M\", \"F\", \"P\", \"S\", \"T\", \"W\", \"Y\", \"V\"]\n",
    "\n",
    "ALPHABET = {ALPHABET[i]:i for i in range(len(ALPHABET))}\n",
    "\n",
    "ALPHABET['-']= 20\n",
    "ALPHABET['Z']= 21\n",
    "\n",
    "print(ALPHABET)"
   ]
  },
  {
   "cell_type": "code",
   "execution_count": 6,
   "id": "20891a43",
   "metadata": {},
   "outputs": [],
   "source": [
    "#max 4\n",
    "rep = torch.tensor([4, 4, 2, 1, 1, 1, 1, 1, 1, 1, 2, 4, 4, 4, 4, 4, 4, 4, 4, 4])\n",
    "rand = torch.tensor([0, 0, 0.2, 0, 0, 0, 0, 0, 0, 0.5, 0.7, 0, 0, 0, 0, 0, 0, 0,0, 0])\n",
    "#max 8 \n",
    "rep = torch.tensor([8, 8, 2, 1, 1, 1, 1, 1, 1, 1, 2, 2, 3, 5, 7, 8, 8, 8, 8, 8])\n",
    "rand = torch.tensor([0, 0, 0.2, 0, 0, 0, 0, 0, 0.2, 0.5, 0.3, 0.9, 0.8, 0.5, 0.9, 0, 0, 0, 0, 0])"
   ]
  },
  {
   "cell_type": "code",
   "execution_count": 7,
   "id": "475e513f",
   "metadata": {},
   "outputs": [],
   "source": [
    "class MyDataset(Dataset):\n",
    "    def __init__(self, data_dir, cont_size=6,div=2000,verbose=False):\n",
    "        \"\"\"\n",
    "        Initialize the dataset by precomputing a bunch of data on the sequence families\n",
    "        \"\"\"\n",
    "        self.col_size = 60 #number of column per file (Fasta standard)\n",
    "        self.data_dir = data_dir #directory of the dataset\n",
    "        self.cont_size = cont_size\n",
    "        self.div = div\n",
    "        self.len = 0  #number of families of sequences (1 per file)\n",
    "        self.paths = {} #path of each families in the folder\n",
    "        self.seq_lens = {} #length of each member of the family\n",
    "        self.seq_nums = {} #number of member of the family\n",
    "        self.aa_freqs = {} #frequencies of each symbol in the sequence family\n",
    "        self.p_aa_freqs = {} #frequencies of each symbol in each sequence of a family\n",
    "        \n",
    "        \n",
    "        dir_path = data_dir\n",
    "        count = 0\n",
    "        \n",
    "        # Iterate directory\n",
    "        for path in os.listdir(dir_path):\n",
    "            # check if current path is a file\n",
    "            temp_path = os.path.join(dir_path, path)\n",
    "            if os.path.isfile(temp_path):\n",
    "                n = 0 #number of sequences\n",
    "                p = 0 # used to calculate the length of the sequences\n",
    "                r = 0 # also used this way\n",
    "\n",
    "                l = 0 # length of the seq l = p * self.col_size + r \n",
    "\n",
    "                cpt = 0 # to detect inconsistencies\n",
    "                \n",
    "                with open(temp_path, newline='') as f:\n",
    "                    first_prot = True\n",
    "                    newf = True\n",
    "                    \n",
    "                    aa_freq = torch.zeros(20)\n",
    "                    p_aa_freq = torch.zeros(0)\n",
    "                    \n",
    "                    #parsing the file\n",
    "                    line = f.readline()[:-1]\n",
    "                    while line:\n",
    "                        cpt += 1\n",
    "                        if line[0] == '>': #header line\n",
    "                            if not first_prot:\n",
    "                                p_aa_freq = torch.cat([p_aa_freq,prot_aa_freq])\n",
    "                            prot_aa_freq = torch.zeros(1,20)\n",
    "                            n += 1\n",
    "                            if newf and not first_prot:\n",
    "                                newf = False\n",
    "                            first_prot = False\n",
    "                                \n",
    "                        else:# sequence line\n",
    "                            if newf and len(line) == self.col_size:\n",
    "                                p += 1\n",
    "\n",
    "                            if newf and len(line) != self.col_size:\n",
    "                                r = len(line)\n",
    "                            for aa in line:\n",
    "                                aa_id = ALPHABET.get(aa,21)\n",
    "                                if aa_id < 20:\n",
    "                                    aa_freq[aa_id] += 1\n",
    "                                    prot_aa_freq[0][aa_id] += 1\n",
    "\n",
    "                            assert len(line) == self.col_size or len(line) == r\n",
    "                        line = f.readline()[:-1]\n",
    "                    \n",
    "                    p_aa_freq = torch.cat([p_aa_freq,prot_aa_freq])\n",
    "                    aa_freq = F.normalize(aa_freq,dim=0,p=1)\n",
    "                    p_aa_freq = F.normalize(p_aa_freq,dim=1,p=1)\n",
    "\n",
    "                l = p*self.col_size + r\n",
    "                \n",
    "                #sanity check\n",
    "                #if the file line count is coherent with the number of sequences and their line count\n",
    "                try: #if r != 0\n",
    "                    assert (p+2) * n == cpt\n",
    "                except: #if r == 0\n",
    "                    assert (p+1) * n == cpt\n",
    "                    assert r == 0\n",
    "                    \n",
    "                \n",
    "                if n>1: #if this is false, we can't find pairs\n",
    "                    self.paths[count] = path\n",
    "                    self.seq_lens[count] = l\n",
    "                    self.seq_nums[count] = n\n",
    "                    self.aa_freqs[count] = aa_freq\n",
    "                    self.p_aa_freqs[count] = p_aa_freq\n",
    "                    count += 1\n",
    "                    \n",
    "                    if verbose and (count % 100 ==0) : print(f\"seen = {count}\")\n",
    "            \n",
    "        self.len = count\n",
    "    \n",
    "    def __len__(self):\n",
    "        return self.len\n",
    "     \n",
    "    def sample(self, high, low=0, s=1):\n",
    "        sample = np.random.choice(high-low, s, replace=False)\n",
    "        return sample + low\n",
    "    \n",
    "    def __getitem__(self, idx, sample_size='auto',rep=rep,rand=rand): \n",
    "        \"\"\"\n",
    "        input idx of the family of the sample\n",
    "        return a Tensor containing several samples from the family corresponding to the index\n",
    "        \"\"\"\n",
    "        \n",
    "        X = []\n",
    "        y = []\n",
    "        \n",
    "        PIDs = []\n",
    "        local_PIDs = []\n",
    "        \n",
    "        lengths = []\n",
    "        \n",
    "        pos = []\n",
    "        \n",
    "        bin_n = len(rep) #for biasing the sampling\n",
    "        \n",
    "        precomputed_pos = [] #positions of the amino-acids\n",
    "        for i in range(-self.cont_size,self.cont_size+1):\n",
    "            precomputed_pos.append(i)\n",
    "        for i in range(-self.cont_size,0):\n",
    "            precomputed_pos.append(i)\n",
    "        for i in range(1,self.cont_size+1):\n",
    "            precomputed_pos.append(i)\n",
    "        \n",
    "        precomputed_pos = torch.tensor(precomputed_pos).float()\n",
    "        \n",
    "        data_path = os.path.join(self.data_dir, self.paths[idx])\n",
    "        try:\n",
    "            n = self.seq_nums[idx]\n",
    "            l = self.seq_lens[idx]\n",
    "        except:\n",
    "            print(idx)\n",
    "            pass\n",
    "        \n",
    "        #sampling more for big families and long sequences\n",
    "        if type(sample_size) != int:\n",
    "            sample_s = min(n * l,25_000)\n",
    "            coef = round((sample_s)/self.div) \n",
    "            sample_size = max(1,coef)\n",
    "        \n",
    "        p = l // self.col_size\n",
    "        r = l % self.col_size # l = p * q + r\n",
    "        sequence_line_count = p+2 if r else p+1\n",
    "\n",
    "        for _ in range(sample_size):\n",
    "            i,j = self.sample(n,s=2)\n",
    "\n",
    "            start_i = 2 + (sequence_line_count)*i #start line of protein i\n",
    "            start_j = 2 + (sequence_line_count)*j #start line of protein j\n",
    "            \n",
    "            seq_i = ''\n",
    "            seq_j = ''\n",
    "            \n",
    "            PID_ij = 0\n",
    "            \n",
    "            l_ij = 0\n",
    "            for offset in range(sequence_line_count-1): #computing PID and removing aligned '-' ##might need to compute the actual column num\n",
    "                line_i = linecache.getline(data_path, (start_i + offset))[:-1]\n",
    "                line_j = linecache.getline(data_path, (start_j + offset))[:-1]\n",
    "                for aa_i, aa_j in zip(line_i,line_j):\n",
    "                    if aa_i == aa_j:\n",
    "                        if aa_i != '-':\n",
    "                            PID_ij += 1\n",
    "                            seq_i += aa_i\n",
    "                            seq_j += aa_j        \n",
    "                    else:\n",
    "                        seq_i += aa_i\n",
    "                        seq_j += aa_j\n",
    "                    \n",
    "                    if aa_j != '-' and aa_i != '-':\n",
    "                        l_ij += 1\n",
    "            \n",
    "            try:\n",
    "                PID_ij = PID_ij/l_ij\n",
    "            except:\n",
    "                PID_ij = 0 #case 0/0\n",
    "            \n",
    "            align_l = len(seq_i)\n",
    "            possible_k = [] #possible position to take\n",
    "            for k,(a_i,a_j) in enumerate(zip(seq_i,seq_j)):   \n",
    "                if ALPHABET.get(a_i,21) < 20 and ALPHABET.get(a_j,21) < 20:\n",
    "                    possible_k.append(k)\n",
    "            \n",
    "            # biasing for more diverse PID  \n",
    "            bin_idx = int(PID_ij//(1/bin_n))\n",
    "            rep_number = rep[bin_idx].clone()\n",
    "            if torch.rand(1) < rand[bin_idx]:\n",
    "                rep_number+=1\n",
    "            \n",
    "            for _ in range(rep_number):\n",
    "                try:   \n",
    "                    k = np.random.choice(possible_k)\n",
    "                except:\n",
    "                    continue\n",
    "                \n",
    "                #adding to the output\n",
    "                lengths.append(align_l)\n",
    "                pos_ij = (k + precomputed_pos)\n",
    "                pos.append(pos_ij)\n",
    "                \n",
    "                #computing the windows\n",
    "                window_i = ''\n",
    "                window_j = ''\n",
    "                for w in range(k-self.cont_size,k+self.cont_size+1):\n",
    "                    if w < 0 or w >= align_l: #case of the edges\n",
    "                        window_i += 'Z'\n",
    "                        window_j += 'Z'\n",
    "                    else:\n",
    "                        window_i += seq_i[w]\n",
    "                        window_j += seq_j[w]\n",
    "\n",
    "                y_j = ALPHABET.get(window_j[self.cont_size], 21) # 'Z' is the default value for rare AA\n",
    "                X_i = [ALPHABET.get(i, 21) for i in (window_i+window_j[:self.cont_size]+window_j[self.cont_size+1:])]       \n",
    "\n",
    "                X.append(X_i)\n",
    "                y.append(y_j)\n",
    "                PIDs.append(PID_ij)\n",
    "                #computing the local PID\n",
    "                local_PID_ij = sum(1 for AA1,AA2 in zip(window_i, window_j[:self.cont_size]) if AA1 == AA2 and ALPHABET.get(AA1,21) < 20) \\\n",
    "                             + sum(1 for AA1,AA2 in zip(reversed(window_i), reversed(window_j[self.cont_size+1:])) if AA1 == AA2 and ALPHABET.get(AA1,21) < 20)\n",
    "\n",
    "                loc_comp = sum(1 for AA1,AA2 in zip(window_i, window_j[:self.cont_size]) if ALPHABET.get(AA1,21) < 20 and ALPHABET.get(AA2,21) < 20) \\\n",
    "                             + sum(1 for AA1,AA2 in zip(reversed(window_i), reversed(window_j[self.cont_size+1:])) if ALPHABET.get(AA1,21) < 20 and ALPHABET.get(AA2,21) < 20)\n",
    "                try:\n",
    "                    tmp = local_PID_ij/loc_comp  \n",
    "                except:\n",
    "                    tmp = 0 #case 0/0\n",
    "\n",
    "                local_PIDs.append(tmp)\n",
    "\n",
    "                assert y_j < 20\n",
    "                assert X_i[self.cont_size] < 20\n",
    "            \n",
    "        linecache.clearcache() #clearing the cache\n",
    "        X = torch.tensor(X)\n",
    "        try:\n",
    "            X = F.one_hot(X,22)[:,:,0:-1]\n",
    "        except RuntimeError:\n",
    "            pass\n",
    "        if len(pos) == 0:\n",
    "            pos = torch.tensor(pos)\n",
    "        else:\n",
    "            pos = torch.stack(pos)\n",
    "\n",
    "        X = X.float()\n",
    "        y = torch.tensor(y)\n",
    "        PIDs = torch.tensor(PIDs)\n",
    "        local_PIDs = torch.tensor(local_PIDs)\n",
    "        lengths = torch.tensor(lengths)\n",
    "        out = X,y.long(),PIDs,local_PIDs,pos,lengths\n",
    "        return out\n"
   ]
  },
  {
   "cell_type": "code",
   "execution_count": 8,
   "id": "1d9b12fe",
   "metadata": {
    "scrolled": true
   },
   "outputs": [
    {
     "data": {
      "text/plain": [
       "'\\ntrain_dataset = MyDataset(r\"data/train_data\",cont_size = 6,4000)\\ntest_dataset = MyDataset(r\"data/test_data\",cont_size = 6,div=2000)\\nval_dataset = MyDataset(r\"data/val_data\",cont_size = 6,div=2000)\\n\\nfname = \\'data/train_dataset1.pth\\'\\nsavepath = Path(fname)\\nwith savepath.open(\"wb\") as fp:\\n    torch.save(train_dataset,fp)\\n    \\nfname = \\'data/test_dataset1.pth\\'\\nsavepath = Path(fname)\\nwith savepath.open(\"wb\") as fp:\\n    torch.save(test_dataset,fp)\\n    \\nfname = \\'data/val_dataset1.pth\\'\\nsavepath = Path(fname)\\nwith savepath.open(\"wb\") as fp:\\n    torch.save(val_dataset,fp)\\n'"
      ]
     },
     "execution_count": 8,
     "metadata": {},
     "output_type": "execute_result"
    }
   ],
   "source": [
    "#Run This for new data\n",
    "\"\"\"\n",
    "train_dataset = MyDataset(r\"data/train_data\",cont_size = 6,4000)\n",
    "test_dataset = MyDataset(r\"data/test_data\",cont_size = 6,div=2000)\n",
    "val_dataset = MyDataset(r\"data/val_data\",cont_size = 6,div=2000)\n",
    "\n",
    "fname = 'data/train_dataset1.pth'\n",
    "savepath = Path(fname)\n",
    "with savepath.open(\"wb\") as fp:\n",
    "    torch.save(train_dataset,fp)\n",
    "    \n",
    "fname = 'data/test_dataset1.pth'\n",
    "savepath = Path(fname)\n",
    "with savepath.open(\"wb\") as fp:\n",
    "    torch.save(test_dataset,fp)\n",
    "    \n",
    "fname = 'data/val_dataset1.pth'\n",
    "savepath = Path(fname)\n",
    "with savepath.open(\"wb\") as fp:\n",
    "    torch.save(val_dataset,fp)\n",
    "\"\"\""
   ]
  },
  {
   "cell_type": "code",
   "execution_count": 9,
   "id": "0b79b8da",
   "metadata": {},
   "outputs": [
    {
     "name": "stdout",
     "output_type": "stream",
     "text": [
      "13219\n",
      "2838\n",
      "2826\n"
     ]
    }
   ],
   "source": [
    "#To load datasets with all features computed\n",
    "fname = 'data/train_dataset1.pth'\n",
    "savepath = Path(fname)\n",
    "with savepath.open(\"rb\") as fp:\n",
    "    train_dataset = torch.load(fp)\n",
    "    \n",
    "fname = 'data/test_dataset1.pth'\n",
    "savepath = Path(fname)\n",
    "with savepath.open(\"rb\") as fp:\n",
    "    test_dataset = torch.load(fp)\n",
    "    \n",
    "fname = 'data/val_dataset1.pth'\n",
    "savepath = Path(fname)\n",
    "with savepath.open(\"rb\") as fp:\n",
    "    val_dataset = torch.load(fp)\n",
    "    \n",
    "print(len(train_dataset))\n",
    "print(len(test_dataset))\n",
    "print(len(val_dataset))\n",
    "\n",
    "train_dataset.cont_size = CONT_SIZE\n",
    "test_dataset.cont_size = CONT_SIZE\n",
    "val_dataset.cont_size = CONT_SIZE\n",
    "\n",
    "train_dataset.div = 2000\n",
    "test_dataset.div = 2000\n",
    "val_dataset.div = 2000"
   ]
  },
  {
   "cell_type": "code",
   "execution_count": 10,
   "id": "378c93c2",
   "metadata": {},
   "outputs": [],
   "source": [
    "def my_collate(batch):\n",
    "    \"\"\"\n",
    "    Transforms a list of tensors to a batch tensor\n",
    "    \"\"\"\n",
    "    data = torch.cat([item[0] for item in batch],dim=0)\n",
    "    target = torch.cat([item[1] for item in batch],dim=0)\n",
    "    PID = torch.cat([item[2] for item in batch],dim=0)\n",
    "    lPID = torch.cat([item[3] for item in batch],dim=0)\n",
    "    pos = torch.cat([item[4] for item in batch],dim=0)\n",
    "    length = torch.cat([item[5] for item in batch],dim=0)\n",
    "    return data, target, PID, lPID, pos, length"
   ]
  },
  {
   "cell_type": "code",
   "execution_count": 11,
   "id": "66f5e639",
   "metadata": {},
   "outputs": [],
   "source": [
    "train_dataloader = DataLoader(train_dataset, batch_size=64, shuffle=True,collate_fn=my_collate,num_workers=4)\n",
    "\n",
    "test_dataloader = DataLoader(test_dataset, batch_size=64, shuffle=True,collate_fn=my_collate,num_workers=4)\n",
    "\n",
    "val_dataloader = DataLoader(val_dataset, batch_size=64, shuffle=True,collate_fn=my_collate,num_workers=4)"
   ]
  },
  {
   "cell_type": "code",
   "execution_count": 12,
   "id": "7c0f4e6f",
   "metadata": {},
   "outputs": [],
   "source": [
    "class AttBlock(nn.Module):\n",
    "    \"\"\"\n",
    "    Self-Attention Block of the Transformer\n",
    "    \"\"\"\n",
    "    def __init__(self,in_features,out_features=None,num_heads=8,head_dims=24):\n",
    "        super().__init__()\n",
    "        out_features = out_features or in_features\n",
    "        \n",
    "        self.Q_w = nn.Linear(in_features,num_heads*head_dims,bias=False)\n",
    "        self.K_w = nn.Linear(in_features,num_heads*head_dims,bias=False)\n",
    "        self.V_w = nn.Linear(in_features,num_heads*head_dims,bias=False)\n",
    "        \n",
    "        self.att = nn.MultiheadAttention(num_heads*head_dims,num_heads=num_heads,batch_first=True)\n",
    "        self.lin = nn.Linear(num_heads*head_dims,out_features)\n",
    "        \n",
    "    def forward(self,x):\n",
    "        Q = self.Q_w(x)\n",
    "        K = self.K_w(x)\n",
    "        V = self.V_w(x)\n",
    "        out,_ = self.att(Q,K,V,need_weights=False)\n",
    "        out = self.lin(out)\n",
    "        \n",
    "        return out"
   ]
  },
  {
   "cell_type": "code",
   "execution_count": 13,
   "id": "b06957f1",
   "metadata": {},
   "outputs": [],
   "source": [
    "class CrossAttBlock(nn.Module):\n",
    "    \"\"\"\n",
    "    Cross-Attention Block of the Transformer\n",
    "    \"\"\"\n",
    "    def __init__(self,in_features,out_features=None,num_heads=8,head_dims=24):\n",
    "        super().__init__()\n",
    "        out_features = out_features or in_features\n",
    "        \n",
    "        self.Q_w_tgt = nn.Linear(in_features,num_heads*head_dims,bias=False)\n",
    "        self.K_w_src = nn.Linear(in_features,num_heads*head_dims,bias=False)\n",
    "        self.V_w_src = nn.Linear(in_features,num_heads*head_dims,bias=False)\n",
    "        \n",
    "        self.att_tgt = nn.MultiheadAttention(num_heads*head_dims,num_heads=num_heads,batch_first=True)\n",
    "        \n",
    "        self.lin = nn.Linear(num_heads*head_dims,out_features)\n",
    "        \n",
    "    def forward(self,x):\n",
    "        src,tgt = x[:,0],x[:,1]\n",
    "        \n",
    "        Q_tgt = self.Q_w_tgt(tgt)\n",
    "        K_src = self.K_w_src(src)\n",
    "        V_src = self.V_w_src(src)\n",
    "        \n",
    "        out,_ = self.att_tgt(Q_tgt,K_src,V_src,need_weights=False)\n",
    "        out = self.lin(out)\n",
    "        \n",
    "        return out"
   ]
  },
  {
   "cell_type": "code",
   "execution_count": 14,
   "id": "3dccfcff",
   "metadata": {},
   "outputs": [],
   "source": [
    "class CrossAttQBlock(nn.Module):\n",
    "    \"\"\"\n",
    "    Cross-Attention Block of the Transformer\n",
    "    \"\"\"\n",
    "    def __init__(self,in_features,out_features=None,num_heads=8,head_dims=24):\n",
    "        super().__init__()\n",
    "        out_features = out_features or in_features\n",
    "        \n",
    "        self.Q_w_Q = nn.Linear(20,num_heads*head_dims,bias=False)\n",
    "        self.K_w_x = nn.Linear(in_features,num_heads*head_dims,bias=False)\n",
    "        self.V_w_x = nn.Linear(in_features,num_heads*head_dims,bias=False)\n",
    "        \n",
    "        self.att_tgt = nn.MultiheadAttention(num_heads*head_dims,num_heads=num_heads,batch_first=True)\n",
    "\n",
    "        self.lin = nn.Linear(num_heads*head_dims,20)\n",
    "        \n",
    "    def forward(self,x,Q):\n",
    "        \n",
    "        Q_Q = self.Q_w_Q(Q)\n",
    "        K_x = self.K_w_x(x)\n",
    "        V_x = self.V_w_x(x)\n",
    "        \n",
    "        out,_ = self.att_tgt(Q_Q,K_x,V_x,need_weights=False)\n",
    "        out = self.lin(out)\n",
    "        \n",
    "        return out"
   ]
  },
  {
   "cell_type": "code",
   "execution_count": 15,
   "id": "bfb64bce",
   "metadata": {},
   "outputs": [],
   "source": [
    "class LastCrossAttBlock(nn.Module):\n",
    "    \"\"\"\n",
    "    Cross-Attention Block of the Transformer\n",
    "    \"\"\"\n",
    "    def __init__(self,in_features,out_features=None,num_heads=8,head_dims=24):\n",
    "        super().__init__()\n",
    "        out_features = out_features or in_features\n",
    "        \n",
    "        self.Q_w = nn.Linear(in_features,num_heads*head_dims,bias=False)\n",
    "        self.K_w = nn.Linear(in_features,num_heads*head_dims,bias=False)\n",
    "        self.V_w = nn.Linear(in_features,num_heads*head_dims,bias=False)\n",
    "        \n",
    "        self.att = nn.MultiheadAttention(num_heads*head_dims,num_heads=num_heads,batch_first=True)\n",
    "        self.lin = nn.Linear(num_heads*head_dims,out_features)\n",
    "        \n",
    "    def forward(self,x):\n",
    "        src,tgt = x[:,0],x[:,1]\n",
    "        Q = self.Q_w(tgt)\n",
    "        K = self.K_w(src)\n",
    "        V = self.V_w(src)\n",
    "        out,_ = self.att(Q,K,V,need_weights=False)\n",
    "        out = self.lin(out)\n",
    "        \n",
    "        return out"
   ]
  },
  {
   "cell_type": "code",
   "execution_count": 16,
   "id": "9a1da4d7",
   "metadata": {},
   "outputs": [],
   "source": [
    "class RowAttBlock(nn.Module):\n",
    "    \"\"\"\n",
    "    Row-wise Attention Block\n",
    "    \"\"\"\n",
    "    def __init__(self,in_features,out_features=None,num_heads=8,head_dims=24):\n",
    "        super().__init__()\n",
    "        self.att_block = AttBlock(in_features,num_heads=num_heads,head_dims=head_dims)\n",
    "    \n",
    "    def forward(self,x):\n",
    "        b,n,l,d = x.shape\n",
    "        out = self.att_block(x.view((b*n,l,d))).view(b,n,l,d)\n",
    "        return out\n",
    "    \n",
    "class ColAttBlock(nn.Module):\n",
    "    \"\"\"\n",
    "    Column-wise Attention Block\n",
    "    \"\"\"\n",
    "    def __init__(self,in_features,out_features=None,num_heads=8,head_dims=24):\n",
    "        super().__init__()\n",
    "        self.att_block = AttBlock(in_features,num_heads=num_heads,head_dims=head_dims)\n",
    "    \n",
    "    def forward(self,x):\n",
    "        b,n,l,d = x.shape\n",
    "        out = self.att_block(x.view((b*l,n,d))).view((b,n,l,d))\n",
    "        return out"
   ]
  },
  {
   "cell_type": "code",
   "execution_count": 17,
   "id": "6d39d449",
   "metadata": {},
   "outputs": [],
   "source": [
    "class FeedFoward2D(nn.Module):\n",
    "    \"\"\"\n",
    "    MLP Block of the Transformer\n",
    "    \"\"\"    \n",
    "    def __init__(self,in_features,out_features=None,wide_factor=4):\n",
    "        super().__init__()\n",
    "        out_features = out_features or 2*in_features\n",
    "        hidden_dim = wide_factor * 2*in_features\n",
    "        \n",
    "        self.lin1 = nn.Linear(2*in_features,hidden_dim)\n",
    "        self.act1 = nn.GELU()\n",
    "        self.lin2 = nn.Linear(hidden_dim,out_features)\n",
    "        self.act2 = nn.GELU()\n",
    "        \n",
    "    def forward(self,x):\n",
    "        b,n,l,d = x.shape\n",
    "        \n",
    "        #dst = src.transpose(1, 2).reshape(b,l,n*d)\n",
    "        #src = dst.reshape(b,l,n,d).transpose(1,2)\n",
    "\n",
    "        out = x.transpose(1, 2).reshape(b,l,n*d)\n",
    "        out = self.lin1(out)\n",
    "        out = self.act1(out)\n",
    "        out = self.lin2(out)\n",
    "        out = self.act2(out)\n",
    "        out = out.reshape(b,l,-1,d).transpose(1,2)\n",
    "        return out"
   ]
  },
  {
   "cell_type": "code",
   "execution_count": 18,
   "id": "d97a7106",
   "metadata": {},
   "outputs": [],
   "source": [
    "class FeedFoward(nn.Module):\n",
    "    \"\"\"\n",
    "    MLP Block of the Transformer\n",
    "    \"\"\"    \n",
    "    def __init__(self,in_features,out_features=None,wide_factor=4,act2 = None):\n",
    "        super().__init__()\n",
    "        out_features = out_features or in_features\n",
    "        hidden_dim = wide_factor * in_features\n",
    "        \n",
    "        self.lin1 = nn.Linear(in_features,hidden_dim)\n",
    "        self.act1 = nn.GELU()\n",
    "        self.lin2 = nn.Linear(hidden_dim,out_features)\n",
    "        self.act2 = act2 or nn.GELU()\n",
    "        \n",
    "    def forward(self,x):\n",
    "        out = self.lin1(x)\n",
    "        out = self.act1(out)\n",
    "        out = self.lin2(out)\n",
    "        out = self.act2(out)\n",
    "        \n",
    "        return out"
   ]
  },
  {
   "cell_type": "code",
   "execution_count": 19,
   "id": "3e2f0e2d",
   "metadata": {},
   "outputs": [],
   "source": [
    "#(from the timm library)\n",
    "def drop_path(x, drop_prob: float = 0.1, training: bool = False, scale_by_keep: bool = True):\n",
    "    \"\"\"Drop paths (Stochastic Depth) per sample (when applied in main path of residual blocks).\n",
    "\n",
    "    This is the same as the DropConnect impl I created for EfficientNet, etc networks, however,\n",
    "    the original name is misleading as 'Drop Connect' is a different form of dropout in a separate paper...\n",
    "    See discussion: https://github.com/tensorflow/tpu/issues/494#issuecomment-532968956 ... I've opted for\n",
    "    changing the layer and argument names to 'drop path' rather than mix DropConnect as a layer name and use\n",
    "    'survival rate' as the argument.\n",
    "\n",
    "    \"\"\"\n",
    "    if drop_prob == 0. or not training:\n",
    "        return x\n",
    "    keep_prob = 1 - drop_prob\n",
    "    shape = (x.shape[0],) + (1,) * (x.ndim - 1)  # work with diff dim tensors, not just 2D ConvNets\n",
    "    random_tensor = x.new_empty(shape).bernoulli_(keep_prob)\n",
    "    if keep_prob > 0.0 and scale_by_keep:\n",
    "        random_tensor.div_(keep_prob)\n",
    "    return x * random_tensor\n",
    "\n",
    "\n",
    "class DropPath(nn.Module):\n",
    "    \"\"\"Drop paths (Stochastic Depth) per sample  (when applied in main path of residual blocks).\n",
    "    \"\"\"\n",
    "    def __init__(self, drop_prob=None, scale_by_keep=True):\n",
    "        super(DropPath, self).__init__()\n",
    "        self.drop_prob = drop_prob\n",
    "        self.scale_by_keep = scale_by_keep\n",
    "\n",
    "    def forward(self, x):\n",
    "        return drop_path(x, self.drop_prob, self.training, self.scale_by_keep)\n"
   ]
  },
  {
   "cell_type": "code",
   "execution_count": 20,
   "id": "3a6c6cd5",
   "metadata": {},
   "outputs": [],
   "source": [
    "class Block(nn.Module):\n",
    "    \"\"\"\n",
    "    Basic Block of the Transformer\n",
    "    \"\"\"\n",
    "    def __init__(self,in_features,num_heads=8,head_dims=24,wide_factor=4,drop=0.1):\n",
    "        super().__init__()\n",
    "        \n",
    "        self.row_att_block = RowAttBlock(in_features,num_heads=num_heads,head_dims=head_dims)\n",
    "        self.ff2d = FeedFoward2D(in_features,wide_factor=wide_factor)\n",
    "        self.drop_path = DropPath(drop)\n",
    "        \n",
    "        self.norm1 = nn.LayerNorm(in_features)\n",
    "        self.norm2 = nn.LayerNorm(in_features)\n",
    "        \n",
    "    def forward(self,x):\n",
    "        out = x + self.drop_path(self.row_att_block(x))\n",
    "        out = self.norm1(out)\n",
    "        out = out + self.drop_path(self.ff2d(out))\n",
    "        out = self.norm2(out)\n",
    "        \n",
    "        return out"
   ]
  },
  {
   "cell_type": "code",
   "execution_count": 21,
   "id": "fd38d825",
   "metadata": {},
   "outputs": [],
   "source": [
    "class LastBlock(nn.Module):\n",
    "    \"\"\"\n",
    "    Last Block of the Transformer\n",
    "    \"\"\"\n",
    "    def __init__(self,in_features,num_heads=8,head_dims=24,wide_factor=4,drop=0.1):\n",
    "        super().__init__()\n",
    "        \n",
    "        self.row_att_block = RowAttBlock(in_features,num_heads=num_heads,head_dims=head_dims)\n",
    "        self.ff = FeedFoward(in_features,wide_factor=wide_factor)\n",
    "        self.cross_att_block = CrossAttBlock(in_features,num_heads=num_heads,head_dims=head_dims)\n",
    "        self.ff2 = FeedFoward(in_features,wide_factor=wide_factor)\n",
    "        self.drop_path = DropPath(drop)\n",
    "        \n",
    "        self.norm1 = nn.LayerNorm(in_features)\n",
    "        self.norm2 = nn.LayerNorm(in_features)\n",
    "        self.norm3 = nn.LayerNorm(in_features)\n",
    "        self.norm4 = nn.LayerNorm(in_features)\n",
    "        \n",
    "    def forward(self,x):\n",
    "        out = x + self.drop_path(self.row_att_block(x))\n",
    "        out = self.norm1(out)\n",
    "        out = out + self.drop_path(self.ff(out))\n",
    "        out = self.norm2(out)\n",
    "        out = out[:,1] + self.drop_path(self.cross_att_block(out))\n",
    "        out = self.norm3(out)\n",
    "        out = out + self.drop_path(self.ff2(out))\n",
    "        return out"
   ]
  },
  {
   "cell_type": "code",
   "execution_count": null,
   "id": "20059eaa",
   "metadata": {},
   "outputs": [],
   "source": []
  },
  {
   "cell_type": "markdown",
   "id": "549ec3ee",
   "metadata": {},
   "source": [
    "ADD Linear + Act d-wise before clf_head"
   ]
  },
  {
   "cell_type": "code",
   "execution_count": 22,
   "id": "a5815535",
   "metadata": {},
   "outputs": [],
   "source": [
    "class Q_block(nn.Module):\n",
    "    def __init__(self,in_features,num_heads=8,head_dims=24):\n",
    "        super().__init__()\n",
    "        self.cross_att_q_block = CrossAttQBlock(in_features,num_heads=num_heads,head_dims=head_dims)\n",
    "        self.cross_att_block = CrossAttBlock(in_features,num_heads=num_heads,head_dims=head_dims)\n",
    "        self.act = torch.nn.Softplus()\n",
    "    def forward(self,x,Q):\n",
    "        x = x[:,1] + self.cross_att_block(x)\n",
    "        Q = Q + self.cross_att_q_block(x,Q)\n",
    "        \n",
    "        Q = self.act(Q) #so that every element of Q is >=0\n",
    "        \n",
    "        PI = torch.diagonal(Q,dim1=-2,dim2=-1).clone() #makes a copy of the diagonal\n",
    "        PI = F.normalize(PI,p=1,dim=1)  # and normalize it to make probabilities\n",
    "        \n",
    "        #pointer manipulation\n",
    "        tmp = torch.diagonal(Q,dim1=-2,dim2=-1) \n",
    "        tmp -= tmp #set Q diagonal to 0\n",
    "        tmp -= torch.sum(Q,dim=2) #sum over rows = 0\n",
    "        \n",
    "        mu = -(PI*torch.diagonal(Q,dim1=-2,dim2=-1)).sum(dim=1).view(-1,1,1) #normalization factor\n",
    "        Q = Q/mu\n",
    "        return Q\n",
    "        \n",
    "        \n",
    "        "
   ]
  },
  {
   "cell_type": "code",
   "execution_count": 23,
   "id": "c55b8e79",
   "metadata": {},
   "outputs": [],
   "source": [
    "class Classifier_Head(nn.Module):\n",
    "    \"\"\"\n",
    "    Classifier Head of the Transformer\n",
    "    \"\"\"\n",
    "    def __init__(self,in_features,clf_dims,out_size,seq_len):\n",
    "        super().__init__()\n",
    "        in_dim = seq_len*in_features\n",
    "        self.in_dim = in_dim\n",
    "        \n",
    "        layers = []\n",
    "        for out_dim in clf_dims:\n",
    "            layers.append(nn.Linear(in_dim,out_dim))\n",
    "            layers.append(nn.GELU())\n",
    "            layers.append(nn.Dropout(p=0.2))\n",
    "            in_dim = out_dim\n",
    "\n",
    "        layers.append(nn.Linear(in_dim,out_size))\n",
    "        layers.append(nn.Softplus())\n",
    "        \n",
    "        self.clf = nn.Sequential(*layers)\n",
    "        \n",
    "    def forward(self,x):\n",
    "        out = x.view((-1,self.in_dim))\n",
    "        \n",
    "        out = self.clf(out)\n",
    "        \n",
    "        return out"
   ]
  },
  {
   "cell_type": "code",
   "execution_count": 24,
   "id": "a48c6f7a",
   "metadata": {},
   "outputs": [],
   "source": [
    "def get_params(input_size,N,head,head_dim,wide_factor,drop_prob):\n",
    "    \"\"\"\n",
    "    Returns the initialization parameters of the Transformer\n",
    "    \"\"\"\n",
    "    return input_size, [head for _ in range(N)], [head_dim for _ in range(N)], [wide_factor for _ in range(N)], [drop_prob for _ in range(N)], "
   ]
  },
  {
   "cell_type": "code",
   "execution_count": 34,
   "id": "085855a3",
   "metadata": {},
   "outputs": [],
   "source": [
    "class AttNet(nn.Module):\n",
    "    \"\"\"\n",
    "    Transformer-like neural net\n",
    "    \"\"\"\n",
    "    def __init__(self,in_features,num_heads,head_dims,wide_factors,drops,input_dim=21,out_size=20,num_seq=2,seq_len=2*CONT_SIZE+2,clf_dims=[256,64],cont_size=CONT_SIZE):\n",
    "        super().__init__()\n",
    "        self.in_features = in_features\n",
    "        self.input_dim = input_dim\n",
    "        self.cont_size=cont_size\n",
    "        self.seq_len = seq_len\n",
    "        \n",
    "        blocks = []\n",
    "        r = min(len(num_heads),len(head_dims),len(wide_factors),len(drops))\n",
    "        for i,(n_h, h_d,w,d) in enumerate(zip(num_heads,head_dims,wide_factors,drops)):\n",
    "            blocks.append(Block(in_features,num_heads=n_h,head_dims=h_d,wide_factor=w,drop=d))\n",
    "            \n",
    "        self.feature_extractor = nn.Sequential(*blocks)\n",
    "        \n",
    "        self.dist = Classifier_Head(in_features,clf_dims,out_size=1,seq_len=seq_len)\n",
    "        \n",
    "        sp = Path(\"data/freq.pth\")\n",
    "        with sp.open(\"rb\") as fp:\n",
    "            self.F = nn.Parameter(torch.log(torch.load(fp)))\n",
    "            \n",
    "        pid_layers = [nn.Linear(1,2*in_features),nn.Sigmoid()]\n",
    "        self.pid_l = nn.Sequential(*pid_layers)\n",
    "        \n",
    "        self.Qp = nn.Parameter(torch.randn(20,20))\n",
    "        self.Q_b = Q_block(in_features)\n",
    "        \n",
    "        self.dist_feature_ext = FeedFoward2D(in_features,in_features,wide_factor=2)\n",
    "        \n",
    "        self.X_Q = FeedFoward(seq_len,out_features=1)\n",
    "        self.X_Q2 = FeedFoward(in_features,out_features=20,act2=nn.Identity())\n",
    "        \n",
    "    def to_input(self,x,PID,pos,length):\n",
    "        X_idx = torch.argmax(x[:,self.cont_size],dim=1)\n",
    "        seq1 = x[:,:2*self.cont_size+1]\n",
    "        y_freq = F.pad(F.softmax(self.F[X_idx],dim=1).unsqueeze(1), pad=(0, 1), mode='constant', value=0) \n",
    "        seq2 = torch.cat((x[:,2*self.cont_size+1:3*self.cont_size+1],y_freq,x[:,3*self.cont_size+1:]),dim=1)\n",
    "        aa_pos = pos[:,:2*self.cont_size+1]/length.unsqueeze(1)\n",
    "        aa_pos = aa_pos.unsqueeze(2)\n",
    "        pos_dim = (self.in_features-self.input_dim-1)//2\n",
    "        \n",
    "        for i in range(pos_dim): #positionnal_encoding\n",
    "            p = torch.cos(pos[:,:2*self.cont_size+1]/(32**(2*i/pos_dim))).unsqueeze(2)\n",
    "            ip = torch.sin(pos[:,:2*self.cont_size+1]/(32**(2*i/pos_dim))).unsqueeze(2)\n",
    "            aa_pos = torch.cat([aa_pos,p,ip],dim=2)\n",
    "        \n",
    "        seq1 = torch.cat([seq1,aa_pos],dim=2)\n",
    "        seq2 = torch.cat([seq2,aa_pos],dim=2)\n",
    "        \n",
    "        out = torch.stack([seq1,seq2],dim=1)\n",
    "        \n",
    "        pid = self.pid_l(PID.unsqueeze(1)).unsqueeze(1)\n",
    "        pid = rearrange(pid,\"b 1 (n e) -> b n 1 e\",n=2)\n",
    "        \n",
    "        out = torch.cat([out,pid],dim=2)\n",
    "        \n",
    "        return out\n",
    "        \n",
    "        \n",
    "    def forward(self,x,PID,pos,length):\n",
    "        X_input = self.to_input(x,PID,pos,length)\n",
    "        b = X_input.shape[0]\n",
    "        Q = repeat(self.Qp,\"c d -> b c d\",b=b)\n",
    "        features = self.feature_extractor(X_input)\n",
    "        dist_features = self.dist_feature_ext(features)\n",
    "        X_pred = self.X_Q(features[:,0].view(-1,self.in_features,self.seq_len))\n",
    "        X_pred = self.X_Q2(X_pred.view(-1,self.in_features))\n",
    "        X_pred = F.softmax(X_pred,dim=1).unsqueeze(1)\n",
    "        t = self.dist(dist_features)\n",
    "        Q = self.Q_b(features,Q)\n",
    "        y_pred = (X_pred @ torch.matrix_exp(Q*t.view(-1,1,1))).view(-1,20)\n",
    "        return y_pred"
   ]
  },
  {
   "cell_type": "code",
   "execution_count": 35,
   "id": "313c7bdf",
   "metadata": {},
   "outputs": [],
   "source": [
    "class State:\n",
    "    \"\"\"\n",
    "    Used for checkpointing\n",
    "    \"\"\"\n",
    "    def __init__(self,model,optim,scheduler):\n",
    "        self.model = model\n",
    "        self.optim = optim\n",
    "        self.scheduler = scheduler\n",
    "        self.epoch = 0"
   ]
  },
  {
   "cell_type": "code",
   "execution_count": 36,
   "id": "3b97a85f",
   "metadata": {
    "scrolled": false
   },
   "outputs": [
    {
     "data": {
      "text/plain": [
       "====================================================================================================\n",
       "Layer (type:depth-idx)                             Output Shape              Param #\n",
       "====================================================================================================\n",
       "AttNet                                             [1, 20]                   800\n",
       "├─Sequential: 1-1                                  [1, 64]                   --\n",
       "│    └─Linear: 2-1                                 [1, 64]                   128\n",
       "│    └─Sigmoid: 2-2                                [1, 64]                   --\n",
       "├─Sequential: 1-2                                  [1, 2, 64, 32]            --\n",
       "│    └─Block: 2-3                                  [1, 2, 64, 32]            --\n",
       "│    │    └─RowAttBlock: 3-1                       [1, 2, 64, 32]            295,968\n",
       "│    │    └─DropPath: 3-2                          [1, 2, 64, 32]            --\n",
       "│    │    └─LayerNorm: 3-3                         [1, 2, 64, 32]            64\n",
       "│    │    └─FeedFoward2D: 3-4                      [1, 2, 64, 32]            33,088\n",
       "│    │    └─DropPath: 3-5                          [1, 2, 64, 32]            --\n",
       "│    │    └─LayerNorm: 3-6                         [1, 2, 64, 32]            64\n",
       "│    └─Block: 2-4                                  [1, 2, 64, 32]            --\n",
       "│    │    └─RowAttBlock: 3-7                       [1, 2, 64, 32]            295,968\n",
       "│    │    └─DropPath: 3-8                          [1, 2, 64, 32]            --\n",
       "│    │    └─LayerNorm: 3-9                         [1, 2, 64, 32]            64\n",
       "│    │    └─FeedFoward2D: 3-10                     [1, 2, 64, 32]            33,088\n",
       "│    │    └─DropPath: 3-11                         [1, 2, 64, 32]            --\n",
       "│    │    └─LayerNorm: 3-12                        [1, 2, 64, 32]            64\n",
       "│    └─Block: 2-5                                  [1, 2, 64, 32]            --\n",
       "│    │    └─RowAttBlock: 3-13                      [1, 2, 64, 32]            295,968\n",
       "│    │    └─DropPath: 3-14                         [1, 2, 64, 32]            --\n",
       "│    │    └─LayerNorm: 3-15                        [1, 2, 64, 32]            64\n",
       "│    │    └─FeedFoward2D: 3-16                     [1, 2, 64, 32]            33,088\n",
       "│    │    └─DropPath: 3-17                         [1, 2, 64, 32]            --\n",
       "│    │    └─LayerNorm: 3-18                        [1, 2, 64, 32]            64\n",
       "│    └─Block: 2-6                                  [1, 2, 64, 32]            --\n",
       "│    │    └─RowAttBlock: 3-19                      [1, 2, 64, 32]            295,968\n",
       "│    │    └─DropPath: 3-20                         [1, 2, 64, 32]            --\n",
       "│    │    └─LayerNorm: 3-21                        [1, 2, 64, 32]            64\n",
       "│    │    └─FeedFoward2D: 3-22                     [1, 2, 64, 32]            33,088\n",
       "│    │    └─DropPath: 3-23                         [1, 2, 64, 32]            --\n",
       "│    │    └─LayerNorm: 3-24                        [1, 2, 64, 32]            64\n",
       "│    └─Block: 2-7                                  [1, 2, 64, 32]            --\n",
       "│    │    └─RowAttBlock: 3-25                      [1, 2, 64, 32]            295,968\n",
       "│    │    └─DropPath: 3-26                         [1, 2, 64, 32]            --\n",
       "│    │    └─LayerNorm: 3-27                        [1, 2, 64, 32]            64\n",
       "│    │    └─FeedFoward2D: 3-28                     [1, 2, 64, 32]            33,088\n",
       "│    │    └─DropPath: 3-29                         [1, 2, 64, 32]            --\n",
       "│    │    └─LayerNorm: 3-30                        [1, 2, 64, 32]            64\n",
       "│    └─Block: 2-8                                  [1, 2, 64, 32]            --\n",
       "│    │    └─RowAttBlock: 3-31                      [1, 2, 64, 32]            295,968\n",
       "│    │    └─DropPath: 3-32                         [1, 2, 64, 32]            --\n",
       "│    │    └─LayerNorm: 3-33                        [1, 2, 64, 32]            64\n",
       "│    │    └─FeedFoward2D: 3-34                     [1, 2, 64, 32]            33,088\n",
       "│    │    └─DropPath: 3-35                         [1, 2, 64, 32]            --\n",
       "│    │    └─LayerNorm: 3-36                        [1, 2, 64, 32]            64\n",
       "├─FeedFoward2D: 1-3                                [1, 1, 64, 32]            --\n",
       "│    └─Linear: 2-9                                 [1, 64, 128]              8,320\n",
       "│    └─GELU: 2-10                                  [1, 64, 128]              --\n",
       "│    └─Linear: 2-11                                [1, 64, 32]               4,128\n",
       "│    └─GELU: 2-12                                  [1, 64, 32]               --\n",
       "├─FeedFoward: 1-4                                  [1, 32, 1]                --\n",
       "│    └─Linear: 2-13                                [1, 32, 256]              16,640\n",
       "│    └─GELU: 2-14                                  [1, 32, 256]              --\n",
       "│    └─Linear: 2-15                                [1, 32, 1]                257\n",
       "│    └─GELU: 2-16                                  [1, 32, 1]                --\n",
       "├─FeedFoward: 1-5                                  [1, 20]                   --\n",
       "│    └─Linear: 2-17                                [1, 128]                  4,224\n",
       "│    └─GELU: 2-18                                  [1, 128]                  --\n",
       "│    └─Linear: 2-19                                [1, 20]                   2,580\n",
       "│    └─Identity: 2-20                              [1, 20]                   --\n",
       "├─Classifier_Head: 1-6                             [1, 1]                    --\n",
       "│    └─Sequential: 2-21                            [1, 1]                    --\n",
       "│    │    └─Linear: 3-37                           [1, 512]                  1,049,088\n",
       "│    │    └─GELU: 3-38                             [1, 512]                  --\n",
       "│    │    └─Dropout: 3-39                          [1, 512]                  --\n",
       "│    │    └─Linear: 3-40                           [1, 128]                  65,664\n",
       "│    │    └─GELU: 3-41                             [1, 128]                  --\n",
       "│    │    └─Dropout: 3-42                          [1, 128]                  --\n",
       "│    │    └─Linear: 3-43                           [1, 32]                   4,128\n",
       "│    │    └─GELU: 3-44                             [1, 32]                   --\n",
       "│    │    └─Dropout: 3-45                          [1, 32]                   --\n",
       "│    │    └─Linear: 3-46                           [1, 1]                    33\n",
       "│    │    └─Softplus: 3-47                         [1, 1]                    --\n",
       "├─Q_block: 1-7                                     [1, 20, 20]               --\n",
       "│    └─CrossAttBlock: 2-22                         [1, 64, 32]               --\n",
       "│    │    └─Linear: 3-48                           [1, 64, 192]              6,144\n",
       "│    │    └─Linear: 3-49                           [1, 64, 192]              6,144\n",
       "│    │    └─Linear: 3-50                           [1, 64, 192]              6,144\n",
       "│    │    └─MultiheadAttention: 3-51               [1, 64, 192]              148,224\n",
       "│    │    └─Linear: 3-52                           [1, 64, 32]               6,176\n",
       "│    └─CrossAttQBlock: 2-23                        [1, 20, 20]               --\n",
       "│    │    └─Linear: 3-53                           [1, 20, 192]              3,840\n",
       "│    │    └─Linear: 3-54                           [1, 64, 192]              6,144\n",
       "│    │    └─Linear: 3-55                           [1, 64, 192]              6,144\n",
       "│    │    └─MultiheadAttention: 3-56               [1, 20, 192]              148,224\n",
       "│    │    └─Linear: 3-57                           [1, 20, 20]               3,860\n",
       "│    └─Softplus: 2-24                              [1, 20, 20]               --\n",
       "====================================================================================================\n",
       "Total params: 3,472,138\n",
       "Trainable params: 3,472,138\n",
       "Non-trainable params: 0\n",
       "Total mult-adds (M): 1.79\n",
       "====================================================================================================\n",
       "Input size (MB): 0.01\n",
       "Forward/backward pass size (MB): 6.99\n",
       "Params size (MB): 6.38\n",
       "Estimated Total Size (MB): 13.38\n",
       "===================================================================================================="
      ]
     },
     "execution_count": 36,
     "metadata": {},
     "output_type": "execute_result"
    }
   ],
   "source": [
    "params = get_params(32,6,8,32,4,0.1)\n",
    "model = AttNet(*params,clf_dims=[512,128,32])\n",
    "torchinfo.summary(model,[(1,4*CONT_SIZE+1,21),(1,),(1,4*CONT_SIZE+1),(1,)])"
   ]
  },
  {
   "cell_type": "code",
   "execution_count": 37,
   "id": "8dab16ea",
   "metadata": {},
   "outputs": [],
   "source": [
    "def eval_model(fname,train,test,val,N=10):\n",
    "    \"\"\"\n",
    "    Evaluate the MSE (Brier Score) of the model\n",
    "    \"\"\"\n",
    "    savepath = Path(fname)\n",
    "    with savepath.open(\"rb\") as fp:\n",
    "        state = torch.load(fp)\n",
    "        \n",
    "    state.model.eval()\n",
    "    with torch.no_grad():\n",
    "        print('EVALUATING ON TRAIN DATA : ')\n",
    "        eval_losses = []\n",
    "        for _ in range(N):\n",
    "            for X,y, PID, lPID,pos,length in train:\n",
    "                X = X.to(device)\n",
    "                y = y.to(device)\n",
    "                PID = PID.to(device)\n",
    "                pos = pos.to(device)\n",
    "                length = length.to(device)\n",
    "\n",
    "                y_hat = state.model(X,PID,pos,length)\n",
    "\n",
    "                y = F.one_hot(y, 20)\n",
    "                eval_l = (y_hat-y)**2\n",
    "                eval_losses.append(torch.sum(eval_l,dim=1).detach().cpu())\n",
    "\n",
    "        score_train = torch.mean(torch.cat(eval_losses)).detach().cpu().item()\n",
    "        print(f\"{score_train = }\\n\")\n",
    "\n",
    "        print('EVALUATING ON TEST DATA : ')\n",
    "        eval_losses = []\n",
    "        for _ in range(N):\n",
    "            for X,y, PID, lPID, pos,length in test:\n",
    "                X = X.to(device)\n",
    "                y = y.to(device)\n",
    "                PID = PID.to(device)\n",
    "                pos = pos.to(device)\n",
    "                length = length.to(device)\n",
    "\n",
    "                y_hat = state.model(X,PID,pos,length)\n",
    "\n",
    "                y = F.one_hot(y, 20)\n",
    "                eval_l = (y_hat-y)**2\n",
    "                eval_losses.append(torch.sum(eval_l,dim=1).detach().cpu())\n",
    "    \n",
    "        score_test = torch.mean(torch.cat(eval_losses)).detach().cpu().item()\n",
    "        print(f\"{score_test = }\\n\")\n",
    "\n",
    "        print('EVALUATING ON VAL DATA : ')\n",
    "        eval_losses = []\n",
    "        for _ in range(N):\n",
    "            for X,y, PID, lPID,pos, length in val:\n",
    "                X = X.to(device)\n",
    "                y = y.to(device)\n",
    "                PID = PID.to(device)\n",
    "                pos = pos.to(device)\n",
    "                length = length.to(device)\n",
    "\n",
    "                y_hat = state.model(X,PID,pos,length)\n",
    "\n",
    "                y = F.one_hot(y, 20)\n",
    "                eval_l = (y_hat-y)**2\n",
    "                eval_losses.append(torch.sum(eval_l,dim=1).detach().cpu())\n",
    "    \n",
    "        score_val = torch.mean(torch.cat(eval_losses)).detach().cpu().item()\n",
    "        print(f\"{score_val = }\\n\")\n",
    "    \n",
    "    return score_train, score_test, score_val"
   ]
  },
  {
   "cell_type": "code",
   "execution_count": 38,
   "id": "c0982994",
   "metadata": {},
   "outputs": [],
   "source": [
    "def eval_model_PID(fname,train,test,val,N=10):\n",
    "    \"\"\"\n",
    "    Evaluate the MSE (Brier Score) of the model for different slices of PID in the data\n",
    "    \"\"\"\n",
    "    savepath = Path(fname)\n",
    "    with savepath.open(\"rb\") as fp:\n",
    "        state = torch.load(fp)\n",
    "    bin_n = 20\n",
    "    state.model.eval()\n",
    "    with torch.no_grad():\n",
    "        print('EVALUATING ON TRAIN DATA : ')\n",
    "        eval_losses = []\n",
    "        PIDS = []\n",
    "        for _ in range(N):\n",
    "            for X,y, PID, lPID,pos,length in train:\n",
    "                PIDS.append(PID)\n",
    "  \n",
    "                X = X.to(device)\n",
    "                y = y.to(device)\n",
    "                PID = PID.to(device)\n",
    "                pos = pos.to(device)\n",
    "                length = length.to(device)\n",
    "\n",
    "                y_hat = state.model(X,PID,pos,length)\n",
    "\n",
    "                y = F.one_hot(y, 20)\n",
    "                eval_l = (y_hat-y)**2\n",
    "                eval_losses.append(torch.sum(eval_l,dim=1).detach().cpu())\n",
    "        PIDS = torch.cat(PIDS)\n",
    "        BINS = (PIDS/(1/bin_n)).long()\n",
    "        scores = torch.cat(eval_losses).detach().cpu()\n",
    "        \n",
    "        Losses_train = torch.zeros(bin_n)\n",
    "        bar_train = torch.zeros(bin_n)\n",
    "        for i,n in zip(BINS,scores):\n",
    "            bar_train[i] += 1\n",
    "            Losses_train[i] += n\n",
    "        Losses_train = Losses_train/bar_train\n",
    "        plt.bar(np.arange(bin_n)/bin_n+(1/(2*bin_n)),Losses_train,width=1/(bin_n+1))\n",
    "        plt.title(\"Brier Score wrt PID on Train dataset\")\n",
    "        plt.show()\n",
    "        plt.bar(np.arange(bin_n)/bin_n+(1/(2*bin_n)),bar_train,width=1/(bin_n+1))\n",
    "        plt.title(\"Example count wrt PID on Train dataset\")\n",
    "        plt.show()\n",
    "        \n",
    "        print('EVALUATING ON TEST DATA : ')\n",
    "        eval_losses = []\n",
    "        PIDS = []\n",
    "        for _ in range(N):\n",
    "            for X,y, PID, lPID,pos,length in test:\n",
    "                PIDS.append(PID)\n",
    "  \n",
    "                X = X.to(device)\n",
    "                y = y.to(device)\n",
    "                PID = PID.to(device)\n",
    "                pos = pos.to(device)\n",
    "                length = length.to(device)\n",
    "\n",
    "                y_hat = state.model(X,PID,pos,length)\n",
    "\n",
    "                y = F.one_hot(y, 20)\n",
    "                eval_l = (y_hat-y)**2\n",
    "                eval_losses.append(torch.sum(eval_l,dim=1).detach().cpu())\n",
    "        PIDS = torch.cat(PIDS)\n",
    "        BINS = (PIDS/(1/bin_n)).long()\n",
    "        scores = torch.cat(eval_losses).detach().cpu()\n",
    "        \n",
    "        Losses_test = torch.zeros(bin_n)\n",
    "        bar_test = torch.zeros(bin_n)\n",
    "        for i,n in zip(BINS,scores):\n",
    "            bar_test[i] += 1\n",
    "            Losses_test[i] += n\n",
    "        Losses_test = Losses_test/bar_test\n",
    "        plt.bar(np.arange(bin_n)/bin_n+(1/(2*bin_n)),Losses_test,width=1/(bin_n+1))\n",
    "        plt.title(\"Brier Score wrt PID on Test dataset\")\n",
    "        plt.show()\n",
    "        plt.bar(np.arange(bin_n)/bin_n+(1/(2*bin_n)),bar_test,width=1/(bin_n+1))\n",
    "        plt.title(\"Example count wrt PID on Test dataset\")\n",
    "        plt.show()\n",
    "        \n",
    "        print('EVALUATING ON VAL DATA : ')\n",
    "        eval_losses = []\n",
    "        PIDS = []\n",
    "        for _ in range(N):\n",
    "            for X,y, PID, lPID,pos,length in val:\n",
    "                PIDS.append(PID)\n",
    "  \n",
    "                X = X.to(device)\n",
    "                y = y.to(device)\n",
    "                PID = PID.to(device)\n",
    "                pos = pos.to(device)\n",
    "                length = length.to(device)\n",
    "\n",
    "                y_hat = state.model(X,PID,pos,length)\n",
    "\n",
    "                y = F.one_hot(y, 20)\n",
    "                eval_l = (y_hat-y)**2\n",
    "                eval_losses.append(torch.sum(eval_l,dim=1).detach().cpu())\n",
    "        PIDS = torch.cat(PIDS)\n",
    "        BINS = (PIDS/(1/bin_n)).long()\n",
    "        scores = torch.cat(eval_losses).detach().cpu()\n",
    "        \n",
    "        Losses_val = torch.zeros(bin_n)\n",
    "        bar_val = torch.zeros(bin_n)\n",
    "        for i,n in zip(BINS,scores):\n",
    "            bar_val[i] += 1\n",
    "            Losses_val[i] += n\n",
    "        Losses_val = Losses_val/bar_val\n",
    "        plt.bar(np.arange(bin_n)/bin_n+(1/(2*bin_n)),Losses_val,width=1/(bin_n+1))\n",
    "        plt.title(\"Brier Score wrt PID on Val dataset\")\n",
    "        plt.show()\n",
    "        plt.bar(np.arange(bin_n)/bin_n+(1/(2*bin_n)),bar_val,width=1/(bin_n+1))\n",
    "        plt.title(\"Example count wrt PID on Val dataset\")\n",
    "        plt.show()\n",
    "        \n",
    "    return Losses_train, bar_train, Losses_test, bar_test, Losses_val,bar_val"
   ]
  },
  {
   "cell_type": "code",
   "execution_count": 39,
   "id": "f4d60cdc",
   "metadata": {},
   "outputs": [],
   "source": [
    "def eval_model_acc_PID(fname,train,test,val,N=10):\n",
    "    \"\"\"\n",
    "    Evaluate the accuracy of the model for different slices of PID in the data\n",
    "    \"\"\"\n",
    "    savepath = Path(fname)\n",
    "    with savepath.open(\"rb\") as fp:\n",
    "        state = torch.load(fp)\n",
    "    bin_n = 20\n",
    "    state.model.eval()\n",
    "    with torch.no_grad():\n",
    "        print('EVALUATING ON TRAIN DATA : ')\n",
    "        eval_losses = []\n",
    "        PIDS = []\n",
    "        for _ in range(N):\n",
    "            for X,y, PID, lPID,pos,length in train:\n",
    "                PIDS.append(PID)\n",
    "  \n",
    "                X = X.to(device)\n",
    "                y = y.to(device)\n",
    "                PID = PID.to(device)\n",
    "                pos = pos.to(device)\n",
    "                length = length.to(device)\n",
    "\n",
    "                y_hat = state.model(X,PID,pos,length)\n",
    "                y_hat = torch.argmax(y_hat,dim=1)\n",
    "\n",
    "                eval_l = (y == y_hat).long()\n",
    "                eval_losses.append(eval_l.detach().cpu())\n",
    "                \n",
    "        PIDS = torch.cat(PIDS)\n",
    "        BINS = (PIDS/(1/bin_n)).long()\n",
    "        scores = torch.cat(eval_losses).detach().cpu()\n",
    "        \n",
    "        Losses_train = torch.zeros(bin_n)\n",
    "        bar_train = torch.zeros(bin_n)\n",
    "        for i,n in zip(BINS,scores):\n",
    "            bar_train[i] += 1\n",
    "            Losses_train[i] += n\n",
    "        Losses_train = Losses_train/bar_train\n",
    "        plt.bar(np.arange(bin_n)/bin_n+(1/(2*bin_n)),Losses_train,width=1/(bin_n+1))\n",
    "        plt.title(\"Accuracy wrt PID on Train dataset\")\n",
    "        plt.show()\n",
    "        plt.bar(np.arange(bin_n)/bin_n+(1/(2*bin_n)),bar_train,width=1/(bin_n+1))\n",
    "        plt.title(\"Example count wrt PID on Train dataset\")\n",
    "        plt.show()\n",
    "        \n",
    "        print('EVALUATING ON TEST DATA : ')\n",
    "        eval_losses = []\n",
    "        PIDS = []\n",
    "        for _ in range(N):\n",
    "            for X,y, PID, lPID,pos,length in test:\n",
    "                PIDS.append(PID)\n",
    "  \n",
    "                X = X.to(device)\n",
    "                y = y.to(device)\n",
    "                PID = PID.to(device)\n",
    "                pos = pos.to(device)\n",
    "                length = length.to(device)\n",
    "\n",
    "                y_hat = state.model(X,PID,pos,length)\n",
    "                y_hat = torch.argmax(y_hat,dim=1)\n",
    "\n",
    "                eval_l = (y == y_hat).long()\n",
    "                eval_losses.append(eval_l.detach().cpu())\n",
    "        PIDS = torch.cat(PIDS)\n",
    "        BINS = (PIDS/(1/bin_n)).long()\n",
    "        scores = torch.cat(eval_losses).detach().cpu()\n",
    "        \n",
    "        Losses_test = torch.zeros(bin_n)\n",
    "        bar_test = torch.zeros(bin_n)\n",
    "        for i,n in zip(BINS,scores):\n",
    "            bar_test[i] += 1\n",
    "            Losses_test[i] += n\n",
    "        Losses_test = Losses_test/bar_test\n",
    "        plt.bar(np.arange(bin_n)/bin_n+(1/(2*bin_n)),Losses_test,width=1/(bin_n+1))\n",
    "        plt.title(\"Accuracy wrt PID on Test dataset\")\n",
    "        plt.show()\n",
    "        plt.bar(np.arange(bin_n)/bin_n+(1/(2*bin_n)),bar_test,width=1/(bin_n+1))\n",
    "        plt.title(\"Example count wrt PID on Test dataset\")\n",
    "        plt.show()\n",
    "        \n",
    "        print('EVALUATING ON VAL DATA : ')\n",
    "        eval_losses = []\n",
    "        PIDS = []\n",
    "        for _ in range(N):\n",
    "            for X,y, PID,lPID,pos,length in val:\n",
    "                PIDS.append(PID)\n",
    "  \n",
    "                X = X.to(device)\n",
    "                y = y.to(device)\n",
    "                PID = PID.to(device)\n",
    "                pos = pos.to(device)\n",
    "                length = length.to(device)\n",
    "\n",
    "                y_hat = state.model(X,PID,pos,length)\n",
    "                y_hat = torch.argmax(y_hat,dim=1)\n",
    "\n",
    "                eval_l = (y == y_hat).long()\n",
    "                eval_losses.append(eval_l.detach().cpu())\n",
    "        PIDS = torch.cat(PIDS)\n",
    "        BINS = (PIDS/(1/bin_n)).long()\n",
    "        scores = torch.cat(eval_losses).detach().cpu()\n",
    "        \n",
    "        Losses_val = torch.zeros(bin_n)\n",
    "        bar_val = torch.zeros(bin_n)\n",
    "        for i,n in zip(BINS,scores):\n",
    "            bar_val[i] += 1\n",
    "            Losses_val[i] += n\n",
    "        Losses_val = Losses_val/bar_val\n",
    "        plt.bar(np.arange(bin_n)/bin_n+(1/(2*bin_n)),Losses_val,width=1/(bin_n+1))\n",
    "        plt.title(\"Accuracy wrt PID on Val dataset\")\n",
    "        plt.show()\n",
    "        plt.bar(np.arange(bin_n)/bin_n+(1/(2*bin_n)),bar_val,width=1/(bin_n+1))\n",
    "        plt.title(\"Example count wrt PID on Val dataset\")\n",
    "        plt.show()\n",
    "        \n",
    "    return Losses_train, bar_train, Losses_test, bar_test, Losses_val,bar_val"
   ]
  },
  {
   "cell_type": "code",
   "execution_count": 40,
   "id": "00349869",
   "metadata": {},
   "outputs": [],
   "source": [
    "def main(train_loader,val_loader,epochs=101,fname=\"models/state.pth\",fnameb=None,state=None,last_epoch_sched=float('inf'),use_mut=True,cont_size=CONT_SIZE):\n",
    "    \"\"\"\n",
    "    Trains a model\n",
    "    \"\"\"\n",
    "    #to get the best model\n",
    "    best = float('inf')\n",
    "    \n",
    "    #getting the acceleration device\n",
    "    device = torch.device(\"cuda:0\" if torch.cuda.is_available() else \"cpu\")\n",
    "    \n",
    "    #loading from previous checkpoint\n",
    "    if fnameb is None:\n",
    "        fnameb = fname[:-4] + '_best' +fname[-4:]\n",
    "        \n",
    "    savepath = Path(fname)\n",
    "    if savepath.is_file():\n",
    "        with savepath.open(\"rb\") as fp:\n",
    "            state = torch.load(fp)\n",
    "    else:\n",
    "        if state is None:\n",
    "            model = AttNet(22,[8,8,8],[24,24,24],[4,4,4],[0.1,0.1,0.1])\n",
    "            model = model.to(device)\n",
    "            optim = torch.optim.AdamW(model.parameters(),lr = 0.0001)\n",
    "            scheduler = torch.optim.lr_scheduler.CosineAnnealingWarmRestarts(optim,16,2)\n",
    "            state = State(model,optim,scheduler)\n",
    "    \n",
    "    \n",
    "    Loss = nn.NLLLoss(reduction='sum')\n",
    "    \n",
    "    #for logs\n",
    "    List_Loss = []\n",
    "    Eval_Loss = []\n",
    "    for epoch in range(state.epoch, epochs):\n",
    "        batch_losses = []\n",
    "        state.model.train()\n",
    "        for X,y, PID, lPID,pos,length in train_loader:\n",
    "            X = X.to(device)\n",
    "            y = y.to(device)\n",
    "            PID = PID.to(device)\n",
    "            pos = pos.to(device)\n",
    "            length = length.to(device)\n",
    "            \n",
    "            state.optim.zero_grad()\n",
    "            y_hat = state.model(X,PID,pos,length)\n",
    "            l = Loss(torch.log(y_hat),y)/440 \n",
    "            l.backward()\n",
    "            state.optim.step()\n",
    "            \n",
    "            \n",
    "            \n",
    "            batch_losses.append(l.detach().cpu())\n",
    "        List_Loss.append(torch.mean(torch.stack(batch_losses)).detach().cpu())\n",
    "        state.epoch = epoch + 1\n",
    "        if epoch < last_epoch_sched:\n",
    "            state.scheduler.step()\n",
    "        \n",
    "        savepath = Path(fname)\n",
    "        with savepath.open(\"wb\") as fp:\n",
    "            torch.save(state,fp)\n",
    "        \n",
    "        with torch.no_grad():\n",
    "            eval_losses = [] \n",
    "            state.model.eval()\n",
    "            for X,y, PID, lPID, pos,length in val_loader:\n",
    "\n",
    "                X = X.to(device)\n",
    "                y = y.to(device)\n",
    "                PID = PID.to(device)\n",
    "                pos = pos.to(device)\n",
    "                length = length.to(device)\n",
    "\n",
    "                y_hat = state.model(X,PID,pos,length)\n",
    "\n",
    "                y = F.one_hot(y, 20)\n",
    "                eval_l = (y_hat-y)**2\n",
    "                eval_losses.append(torch.sum(eval_l,dim=1).detach().cpu())\n",
    "    \n",
    "            score = torch.mean(torch.cat(eval_losses)).detach().cpu().item()\n",
    "            Eval_Loss.append(score)\n",
    "        \n",
    "        if score < best :\n",
    "            best = score\n",
    "            savepath = Path(fnameb)\n",
    "            with savepath.open(\"wb\") as fp:\n",
    "                torch.save(state,fp)\n",
    "        \n",
    "        print(f\"epoch n°{epoch} : train_loss = {List_Loss[-1]}, val_loss = {Eval_Loss[-1]}\") \n",
    "\n",
    "\n",
    "        \n",
    "    return List_Loss,Eval_Loss,state"
   ]
  },
  {
   "cell_type": "code",
   "execution_count": 47,
   "id": "2e02151c",
   "metadata": {},
   "outputs": [],
   "source": [
    "!rm \"models/state_Q_mat_fixed.pth\""
   ]
  },
  {
   "cell_type": "code",
   "execution_count": null,
   "id": "bd883578",
   "metadata": {
    "scrolled": true
   },
   "outputs": [
    {
     "name": "stdout",
     "output_type": "stream",
     "text": [
      "epoch n°0 : train_loss = 2.909058094024658, val_loss = 0.9406532049179077\n",
      "epoch n°1 : train_loss = 2.8894128799438477, val_loss = 0.9410019516944885\n",
      "epoch n°2 : train_loss = 2.8809618949890137, val_loss = 0.9307694435119629\n",
      "epoch n°3 : train_loss = 2.649827718734741, val_loss = 0.8746313452720642\n"
     ]
    }
   ],
   "source": [
    "params = get_params(32,5,8,32,4,0.2)\n",
    "model = AttNet(*params,clf_dims=[512,128,32])\n",
    "model = model.to(device)\n",
    "optim = torch.optim.AdamW(model.parameters(),lr = 0.0003)\n",
    "scheduler = torch.optim.lr_scheduler.CosineAnnealingWarmRestarts(optim,16,2)\n",
    "state = State(model,optim,scheduler)\n",
    "\n",
    "fname = \"models/state_Q_mat_fixed.pth\" \n",
    "start = time.time()\n",
    "\n",
    "Train,Eval,_ = main(train_dataloader, val_dataloader,fname=fname,epochs=2032,state=state,use_mut=False)\n",
    "stop = time.time()\n",
    "print(stop-start)"
   ]
  },
  {
   "cell_type": "code",
   "execution_count": null,
   "id": "7c09303e",
   "metadata": {},
   "outputs": [],
   "source": [
    "plt.plot(np.arange(len(Train)),Train)"
   ]
  },
  {
   "cell_type": "code",
   "execution_count": null,
   "id": "7c0f6a20",
   "metadata": {},
   "outputs": [],
   "source": [
    "plt.plot(np.arange(len(Eval)),Eval)"
   ]
  },
  {
   "cell_type": "code",
   "execution_count": null,
   "id": "7141d807",
   "metadata": {},
   "outputs": [],
   "source": [
    "N = 10 #moving average\n",
    "smothed_Eval = np.convolve(Eval, np.ones(N)/N, mode='valid')\n",
    "plt.plot(np.arange(len(smothed_Eval)),smothed_Eval)"
   ]
  },
  {
   "cell_type": "code",
   "execution_count": null,
   "id": "d1c37ab7",
   "metadata": {},
   "outputs": [],
   "source": [
    "\n",
    "SCORES = eval_model(fname,train_dataloader,test_dataloader,val_dataloader)"
   ]
  },
  {
   "cell_type": "code",
   "execution_count": null,
   "id": "3030e689",
   "metadata": {
    "scrolled": false
   },
   "outputs": [],
   "source": [
    "\n",
    "SCORES = eval_model_PID(fname,train_dataloader,test_dataloader,val_dataloader)"
   ]
  },
  {
   "cell_type": "code",
   "execution_count": null,
   "id": "dabd7c67",
   "metadata": {
    "scrolled": false
   },
   "outputs": [],
   "source": [
    "\n",
    "SCORES = eval_model_acc_PID(fname,train_dataloader,test_dataloader,val_dataloader)"
   ]
  },
  {
   "cell_type": "code",
   "execution_count": 75,
   "id": "51813229",
   "metadata": {},
   "outputs": [],
   "source": [
    "\n",
    "savepath = Path(fname)\n",
    "with savepath.open(\"rb\") as fp:\n",
    "    model = torch.load(fp).model.to('cpu').eval()"
   ]
  },
  {
   "cell_type": "code",
   "execution_count": 153,
   "id": "22b41e9b",
   "metadata": {},
   "outputs": [],
   "source": [
    "for X,y,PID,lPID,pos,length in test_dataloader:\n",
    "    break"
   ]
  },
  {
   "cell_type": "code",
   "execution_count": 154,
   "id": "c4802dd3",
   "metadata": {},
   "outputs": [],
   "source": [
    "X_input = model.to_input(X,PID,pos,length)"
   ]
  },
  {
   "cell_type": "code",
   "execution_count": 158,
   "id": "3f986be0",
   "metadata": {},
   "outputs": [
    {
     "data": {
      "text/plain": [
       "torch.Size([420, 125, 21])"
      ]
     },
     "execution_count": 158,
     "metadata": {},
     "output_type": "execute_result"
    }
   ],
   "source": [
    "X.shape"
   ]
  },
  {
   "cell_type": "code",
   "execution_count": 156,
   "id": "888a4bc4",
   "metadata": {},
   "outputs": [],
   "source": [
    "idx = 42\n",
    "L = [X_input.detach().cpu()]\n",
    "x = X_input\n",
    "for i,f in model.feature_extractor.named_children():\n",
    "    x = f(x)\n",
    "    L.append(x.detach().cpu())"
   ]
  },
  {
   "cell_type": "code",
   "execution_count": 157,
   "id": "b6197950",
   "metadata": {
    "scrolled": false
   },
   "outputs": [
    {
     "data": {
      "image/png": "[encoded data removed]",
      "text/plain": [
       "<Figure size 640x480 with 3 Axes>"
      ]
     },
     "metadata": {},
     "output_type": "display_data"
    },
    {
     "data": {
      "image/png": "[encoded data removed]",
      "text/plain": [
       "<Figure size 640x480 with 3 Axes>"
      ]
     },
     "metadata": {},
     "output_type": "display_data"
    },
    {
     "data": {
      "image/png": "[encoded data removed]",
      "text/plain": [
       "<Figure size 640x480 with 3 Axes>"
      ]
     },
     "metadata": {},
     "output_type": "display_data"
    },
    {
     "data": {
      "image/png": "[encoded data removed]",
      "text/plain": [
       "<Figure size 640x480 with 2 Axes>"
      ]
     },
     "metadata": {},
     "output_type": "display_data"
    }
   ],
   "source": [
    "for X_im in L[:-1]:\n",
    "    fig, (ax1, ax2) = plt.subplots(1, 2)\n",
    "    im = ax1.imshow(X_im[idx][0])\n",
    "    im = ax2.imshow(X_im[idx][1])\n",
    "    fig.colorbar(im)\n",
    "    plt.show()\n",
    "\n",
    "plt.imshow(L[-1][idx])\n",
    "plt.colorbar()\n",
    "plt.show()"
   ]
  },
  {
   "cell_type": "code",
   "execution_count": 159,
   "id": "f47f5478",
   "metadata": {},
   "outputs": [],
   "source": [
    "b = X_input.shape[0]\n",
    "Q = repeat(model.Qp,\"c d -> b c d\",b=b)\n",
    "features = L[-1]\n",
    "t = model.dist(features)\n",
    "Q = model.Q_b(features,Q)\n",
    "y_pred = (X[:,31,:20].unsqueeze(1) @ torch.matrix_exp(Q*t.view(-1,1,1))).squeeze(1)"
   ]
  },
  {
   "cell_type": "code",
   "execution_count": 161,
   "id": "d83119c6",
   "metadata": {},
   "outputs": [
    {
     "data": {
      "text/plain": [
       "tensor(True)"
      ]
     },
     "execution_count": 161,
     "metadata": {},
     "output_type": "execute_result"
    }
   ],
   "source": [
    "(y_pred == (torch.matrix_exp(Q*t.view(-1,1,1))*x_aa).sum(dim=1)).all()"
   ]
  },
  {
   "cell_type": "code",
   "execution_count": 184,
   "id": "61cfcdb3",
   "metadata": {},
   "outputs": [
    {
     "data": {
      "text/plain": [
       "torch.Size([420, 20, 20])"
      ]
     },
     "execution_count": 184,
     "metadata": {},
     "output_type": "execute_result"
    }
   ],
   "source": [
    "(torch.matrix_exp(Q*t.view(-1,1,1))*x_aa).shape"
   ]
  },
  {
   "cell_type": "code",
   "execution_count": null,
   "id": "a13c454a",
   "metadata": {},
   "outputs": [],
   "source": [
    "(y_pred == (torch.matrix_exp(Q*t.view(-1,1,1)) @ (X[:,31,:20]).T).sum(dim=1)).all()"
   ]
  },
  {
   "cell_type": "code",
   "execution_count": 205,
   "id": "0ba1e573",
   "metadata": {},
   "outputs": [
    {
     "data": {
      "text/plain": [
       "tensor([[True, True, True,  ..., True, True, True],\n",
       "        [True, True, True,  ..., True, True, True],\n",
       "        [True, True, True,  ..., True, True, True],\n",
       "        ...,\n",
       "        [True, True, True,  ..., True, True, True],\n",
       "        [True, True, True,  ..., True, True, True],\n",
       "        [True, True, True,  ..., True, True, True]])"
      ]
     },
     "execution_count": 205,
     "metadata": {},
     "output_type": "execute_result"
    }
   ],
   "source": [
    "y_pred == "
   ]
  },
  {
   "cell_type": "code",
   "execution_count": 194,
   "id": "339f4514",
   "metadata": {},
   "outputs": [
    {
     "data": {
      "text/plain": [
       "tensor([[0.0605, 0.0645, 0.0240,  ..., 0.0025, 0.0076, 0.0237],\n",
       "        [0.0116, 0.0047, 0.0019,  ..., 0.0018, 0.0063, 0.0797],\n",
       "        [0.0375, 0.0186, 0.0469,  ..., 0.0008, 0.0033, 0.0065],\n",
       "        ...,\n",
       "        [0.0788, 0.0403, 0.0613,  ..., 0.0025, 0.0105, 0.0250],\n",
       "        [0.0662, 0.0397, 0.0684,  ..., 0.0091, 0.0403, 0.0457],\n",
       "        [0.0372, 0.0462, 0.1037,  ..., 0.0049, 0.0333, 0.0249]],\n",
       "       grad_fn=<SumBackward1>)"
      ]
     },
     "execution_count": 194,
     "metadata": {},
     "output_type": "execute_result"
    }
   ],
   "source": [
    "y_pred"
   ]
  },
  {
   "cell_type": "code",
   "execution_count": 110,
   "id": "caa6b7c5",
   "metadata": {},
   "outputs": [],
   "source": [
    "sp = Path(\"data/freq.pth\")\n",
    "with sp.open(\"rb\") as fp:\n",
    "    FREQ = torch.load(fp)"
   ]
  },
  {
   "cell_type": "code",
   "execution_count": 112,
   "id": "c0f19eb5",
   "metadata": {
    "scrolled": false
   },
   "outputs": [
    {
     "data": {
      "image/png": "[encoded data removed]",
      "text/plain": [
       "<Figure size 640x480 with 2 Axes>"
      ]
     },
     "metadata": {},
     "output_type": "display_data"
    },
    {
     "data": {
      "image/png": "[encoded data removed]",
      "text/plain": [
       "<Figure size 640x480 with 2 Axes>"
      ]
     },
     "metadata": {},
     "output_type": "display_data"
    },
    {
     "data": {
      "image/png": "[encoded data removed]",
      "text/plain": [
       "<Figure size 640x480 with 2 Axes>"
      ]
     },
     "metadata": {},
     "output_type": "display_data"
    },
    {
     "data": {
      "image/png": "[encoded data removed]",
      "text/plain": [
       "<Figure size 640x480 with 2 Axes>"
      ]
     },
     "metadata": {},
     "output_type": "display_data"
    },
    {
     "data": {
      "image/png": "[encoded data removed]",
      "text/plain": [
       "<Figure size 640x480 with 2 Axes>"
      ]
     },
     "metadata": {},
     "output_type": "display_data"
    },
    {
     "data": {
      "image/png": "[encoded data removed]",
      "text/plain": [
       "<Figure size 640x480 with 2 Axes>"
      ]
     },
     "metadata": {},
     "output_type": "display_data"
    }
   ],
   "source": [
    "plt.imshow(model.Qp.detach())\n",
    "plt.colorbar()\n",
    "plt.show()\n",
    "    \n",
    "plt.imshow(Q.mean(dim=0).detach())\n",
    "plt.colorbar()\n",
    "plt.title(\"Neural Q\")\n",
    "plt.show()\n",
    "\n",
    "plt.imshow(Q_norm.detach())\n",
    "plt.colorbar()\n",
    "plt.title(\"LG Matrix\")\n",
    "plt.show()\n",
    "\n",
    "plt.imshow(torch.matrix_exp(Q.mean(dim=0).detach()))\n",
    "plt.colorbar()\n",
    "plt.title(\"Neural Q probs\")\n",
    "plt.show()\n",
    "\n",
    "plt.imshow(torch.matrix_exp(Q_norm).detach())\n",
    "plt.colorbar()\n",
    "plt.title(\"LG probs\")\n",
    "plt.show()\n",
    "\n",
    "plt.imshow(FREQ)\n",
    "plt.colorbar()\n",
    "plt.title(\"Conditional Frequencies\")\n",
    "plt.show()"
   ]
  },
  {
   "cell_type": "code",
   "execution_count": 96,
   "id": "f89e878d",
   "metadata": {},
   "outputs": [
    {
     "data": {
      "text/plain": [
       "tensor([[0.7816],\n",
       "        [0.6830],\n",
       "        [0.6771],\n",
       "        ...,\n",
       "        [2.4487],\n",
       "        [0.8619],\n",
       "        [3.0097]])"
      ]
     },
     "execution_count": 96,
     "metadata": {},
     "output_type": "execute_result"
    }
   ],
   "source": [
    "torch.set_printoptions(threshold=5)\n",
    "t.detach()"
   ]
  },
  {
   "cell_type": "code",
   "execution_count": 102,
   "id": "ca2d92ea",
   "metadata": {},
   "outputs": [],
   "source": [
    "\n",
    "R_str = \"\"\"0.425093\n",
    "0.276818 0.751878\n",
    "0.395144 0.123954 5.076149\n",
    "2.489084 0.534551 0.528768 0.062556\n",
    "0.969894 2.807908 1.695752 0.523386 0.084808\n",
    "1.038545 0.363970 0.541712 5.243870 0.003499 4.128591\n",
    "2.066040 0.390192 1.437645 0.844926 0.569265 0.267959 0.348847\n",
    "0.358858 2.426601 4.509238 0.927114 0.640543 4.813505 0.423881 0.311484\n",
    "0.149830 0.126991 0.191503 0.010690 0.320627 0.072854 0.044265 0.008705 0.108882\n",
    "0.395337 0.301848 0.068427 0.015076 0.594007 0.582457 0.069673 0.044261 0.366317 4.145067\n",
    "0.536518 6.326067 2.145078 0.282959 0.013266 3.234294 1.807177 0.296636 0.697264 0.159069 0.137500\n",
    "1.124035 0.484133 0.371004 0.025548 0.893680 1.672569 0.173735 0.139538 0.442472 4.273607 6.312358 0.656604\n",
    "0.253701 0.052722 0.089525 0.017416 1.105251 0.035855 0.018811 0.089586 0.682139 1.112727 2.592692 0.023918 1.798853\n",
    "1.177651 0.332533 0.161787 0.394456 0.075382 0.624294 0.419409 0.196961 0.508851 0.078281 0.249060 0.390322 0.099849 0.094464\n",
    "4.727182 0.858151 4.008358 1.240275 2.784478 1.223828 0.611973 1.739990 0.990012 0.064105 0.182287 0.748683 0.346960 0.361819 1.338132\n",
    "2.139501 0.578987 2.000679 0.425860 1.143480 1.080136 0.604545 0.129836 0.584262 1.033739 0.302936 1.136863 2.020366 0.165001 0.571468 6.472279\n",
    "0.180717 0.593607 0.045376 0.029890 0.670128 0.236199 0.077852 0.268491 0.597054 0.111660 0.619632 0.049906 0.696175 2.457121 0.095131 0.248862 0.140825\n",
    "0.218959 0.314440 0.612025 0.135107 1.165532 0.257336 0.120037 0.054679 5.306834 0.232523 0.299648 0.131932 0.481306 7.803902 0.089613 0.400547 0.245841 3.151815\n",
    "2.547870 0.170887 0.083688 0.037967 1.959291 0.210332 0.245034 0.076701 0.119013 10.649107 1.702745 0.185202 1.898718 0.654683 0.296501 0.098369 2.188158 0.189510 0.249313\n",
    "\"\"\"\n",
    "\n",
    "PI_str = \"\"\"0.079066 0.055941 0.041977 0.053052 0.012937 0.040767 0.071586 0.057337 0.022355 0.062157 0.099081 0.064600 0.022951 0.042302 0.044040 0.061197 0.053287 0.012066 0.034155 0.069147\"\"\"\n",
    "\n",
    "PI = torch.tensor(list(map(float,PI_str.split(' '))))\n",
    "\n",
    "R = torch.zeros(20,20)\n",
    "i = 0\n",
    "for line in R_str.splitlines():\n",
    "    i += 1\n",
    "    l = list(map(float,line.split(' ')))\n",
    "    for j in range(i):\n",
    "        R[i,j] += l[j]\n",
    "        R[j,i] += l[j]\n",
    "\n",
    "mu = 0\n",
    "Q = torch.zeros(20,20)\n",
    "for i in range(20):\n",
    "    for j in range(i+1,20):\n",
    "        Q[i,j] = PI[i]*R[i,j]\n",
    "        Q[j,i] = PI[j]*R[j,i]\n",
    "        \n",
    "    Q[i,i] = -torch.sum(Q[i])\n",
    "    mu -= PI[i] * Q[i,i]\n",
    "Q_norm = Q/mu"
   ]
  },
  {
   "cell_type": "code",
   "execution_count": 103,
   "id": "38d8abca",
   "metadata": {},
   "outputs": [
    {
     "data": {
      "text/plain": [
       "torch.Size([20, 20])"
      ]
     },
     "execution_count": 103,
     "metadata": {},
     "output_type": "execute_result"
    }
   ],
   "source": [
    "Q_norm.shape"
   ]
  },
  {
   "cell_type": "code",
   "execution_count": 114,
   "id": "91377b10",
   "metadata": {},
   "outputs": [
    {
     "data": {
      "text/plain": [
       "tensor([-1.2954,  0.3282,  0.4218,  ..., -0.2064, -0.3163, -0.8729],\n",
       "       grad_fn=<DiagonalBackward0>)"
      ]
     },
     "execution_count": 114,
     "metadata": {},
     "output_type": "execute_result"
    }
   ],
   "source": [
    "torch.diagonal(model.Qp)"
   ]
  },
  {
   "cell_type": "code",
   "execution_count": 118,
   "id": "77519d2f",
   "metadata": {},
   "outputs": [],
   "source": [
    "Q_tmp = F.softplus(model.Qp.unsqueeze(0)) #so that every element of Q is >=0\n",
    "        \n",
    "PI = torch.diagonal(Q_tmp,dim1=-2,dim2=-1).clone() #makes a copy of the diagonal\n",
    "PI = F.normalize(PI,p=1,dim=1)  # and normalize it to make probabilities\n",
    "\n",
    "#pointer manipulation\n",
    "tmp = torch.diagonal(Q_tmp,dim1=-2,dim2=-1) \n",
    "tmp -= tmp #set Q diagonal to 0\n",
    "tmp -= torch.sum(Q_tmp,dim=2) #sum over rows = 0\n",
    "\n",
    "mu_tmp = -(PI*torch.diagonal(Q_tmp,dim1=-2,dim2=-1)).sum(dim=1).view(-1,1,1) #normalization factor\n",
    "Q_tmp = Q_tmp/mu_tmp\n",
    "Q_tmp = Q_tmp[0]"
   ]
  },
  {
   "cell_type": "code",
   "execution_count": 119,
   "id": "0a4cfa07",
   "metadata": {},
   "outputs": [
    {
     "data": {
      "text/plain": [
       "torch.Size([20, 20])"
      ]
     },
     "execution_count": 119,
     "metadata": {},
     "output_type": "execute_result"
    }
   ],
   "source": [
    "Q_tmp.shape"
   ]
  },
  {
   "cell_type": "code",
   "execution_count": 132,
   "id": "3da9478a",
   "metadata": {},
   "outputs": [
    {
     "data": {
      "image/png": "[encoded data removed]",
      "text/plain": [
       "<Figure size 640x480 with 2 Axes>"
      ]
     },
     "metadata": {},
     "output_type": "display_data"
    },
    {
     "data": {
      "image/png": "[encoded data removed]",
      "text/plain": [
       "<Figure size 640x480 with 2 Axes>"
      ]
     },
     "metadata": {},
     "output_type": "display_data"
    }
   ],
   "source": [
    "plt.imshow(Q_tmp.detach())\n",
    "plt.colorbar()\n",
    "plt.show()\n",
    "\n",
    "plt.imshow(torch.matrix_exp(Q_tmp).detach())\n",
    "plt.colorbar()\n",
    "plt.show()"
   ]
  },
  {
   "cell_type": "code",
   "execution_count": 134,
   "id": "be6b6935",
   "metadata": {},
   "outputs": [
    {
     "data": {
      "text/plain": [
       "tensor(0.0500)"
      ]
     },
     "execution_count": 134,
     "metadata": {},
     "output_type": "execute_result"
    }
   ],
   "source": [
    "torch.matrix_exp(Q_norm).detach().mean()"
   ]
  },
  {
   "cell_type": "code",
   "execution_count": null,
   "id": "b7ec0ed0",
   "metadata": {},
   "outputs": [],
   "source": []
  }
 ],
 "metadata": {
  "kernelspec": {
   "display_name": "Python 3 (ipykernel)",
   "language": "python",
   "name": "python3"
  },
  "language_info": {
   "codemirror_mode": {
    "name": "ipython",
    "version": 3
   },
   "file_extension": ".py",
   "mimetype": "text/x-python",
   "name": "python",
   "nbconvert_exporter": "python",
   "pygments_lexer": "ipython3",
   "version": "3.8.16"
  }
 },
 "nbformat": 4,
 "nbformat_minor": 5
}
